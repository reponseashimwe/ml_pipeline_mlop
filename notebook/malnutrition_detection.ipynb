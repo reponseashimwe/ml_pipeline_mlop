{
 "cells": [
  {
   "cell_type": "markdown",
   "metadata": {
    "vscode": {
     "languageId": "raw"
    }
   },
   "source": [
    "# 🏥 Malnutrition Detection ML Pipeline\n",
    "\n",
    "## **Objective**: End-to-End Machine Learning Pipeline for Image Classification\n",
    "\n",
    "This notebook demonstrates the complete ML process for detecting malnutrition in children using computer vision.\n",
    "\n",
    "### **Dataset Overview**\n",
    "- **Source**: Roboflow Universe - Malnutrition Detection Dataset\n",
    "- **Classes**: \n",
    "  - 📕 **Malnourished** (210 train, 10 test)\n",
    "  - 📘 **Overnourished** (207 train, 10 test) \n",
    "- **Total Images**: 437 (perfectly balanced binary classification)\n",
    "- **Task**: Binary Image Classification\n",
    "\n",
    "### **Pipeline Components**\n",
    "1. **Data Acquisition** ✅\n",
    "2. **Data Processing & Augmentation** \n",
    "3. **Model Creation** (MobileNetV2 Architecture)\n",
    "4. **Model Training & Evaluation**\n",
    "5. **Performance Metrics Analysis**\n",
    "6. **Model Testing**\n"
   ]
  },
  {
   "cell_type": "code",
   "execution_count": 48,
   "metadata": {},
   "outputs": [
    {
     "name": "stdout",
     "output_type": "stream",
     "text": [
      "🎯 Libraries imported successfully!\n",
      "TensorFlow: 2.20.0-rc0\n",
      "GPU Available: False\n"
     ]
    }
   ],
   "source": [
    "# 📦 Import Required Libraries\n",
    "import os\n",
    "import numpy as np\n",
    "import pandas as pd\n",
    "import matplotlib.pyplot as plt\n",
    "import seaborn as sns\n",
    "from pathlib import Path\n",
    "import warnings\n",
    "warnings.filterwarnings('ignore')\n",
    "\n",
    "# Deep Learning\n",
    "import tensorflow as tf\n",
    "from tensorflow import keras\n",
    "from tensorflow.keras import layers, models, optimizers, regularizers\n",
    "from tensorflow.keras.optimizers import Adam\n",
    "from tensorflow.keras.preprocessing.image import ImageDataGenerator\n",
    "from tensorflow.keras.applications import MobileNetV2\n",
    "from tensorflow.keras.callbacks import EarlyStopping, ReduceLROnPlateau, ModelCheckpoint\n",
    "\n",
    "# Metrics\n",
    "from sklearn.metrics import classification_report, confusion_matrix, roc_auc_score, roc_curve\n",
    "\n",
    "# Set seeds\n",
    "np.random.seed(42)\n",
    "tf.random.set_seed(42)\n",
    "\n",
    "print(\"🎯 Libraries imported successfully!\")\n",
    "print(f\"TensorFlow: {tf.__version__}\")\n",
    "print(f\"GPU Available: {len(tf.config.list_physical_devices('GPU')) > 0}\")\n"
   ]
  },
  {
   "cell_type": "markdown",
   "metadata": {
    "vscode": {
     "languageId": "raw"
    }
   },
   "source": [
    "## 📊 Data Exploration & Analysis\n",
    "\n",
    "Let's explore our malnutrition detection dataset and visualize the class distribution.\n"
   ]
  },
  {
   "cell_type": "code",
   "execution_count": 49,
   "metadata": {},
   "outputs": [
    {
     "name": "stdout",
     "output_type": "stream",
     "text": [
      "📋 Dataset Distribution:\n",
      "Class           Train    Test     Total   \n",
      "----------------------------------------\n",
      "malnourished    210      10       220     \n",
      "overnourished   210      10       220     \n",
      "----------------------------------------\n",
      "TOTAL           420      20       440     \n",
      "\n",
      "✅ Dataset is perfectly balanced!\n",
      "📊 Train/Test Split: 420/20 (95.5%/4.5%)\n"
     ]
    }
   ],
   "source": [
    "# Dataset Analysis\n",
    "data_dir = Path(\"../data\")\n",
    "train_dir = data_dir / \"train\" \n",
    "test_dir = data_dir / \"test\"\n",
    "\n",
    "# Count images per class\n",
    "classes = ['malnourished', 'overnourished']\n",
    "train_counts = {}\n",
    "test_counts = {}\n",
    "\n",
    "for class_name in classes:\n",
    "    train_path = train_dir / class_name\n",
    "    test_path = test_dir / class_name\n",
    "    \n",
    "    train_counts[class_name] = len(list(train_path.glob(\"*.jpg\")))\n",
    "    test_counts[class_name] = len(list(test_path.glob(\"*.jpg\")))\n",
    "\n",
    "print(\"📋 Dataset Distribution:\")\n",
    "print(f\"{'Class':<15} {'Train':<8} {'Test':<8} {'Total':<8}\")\n",
    "print(\"-\" * 40)\n",
    "\n",
    "total_train = sum(train_counts.values())\n",
    "total_test = sum(test_counts.values())\n",
    "\n",
    "for class_name in classes:\n",
    "    total_class = train_counts[class_name] + test_counts[class_name]\n",
    "    print(f\"{class_name:<15} {train_counts[class_name]:<8} {test_counts[class_name]:<8} {total_class:<8}\")\n",
    "\n",
    "print(\"-\" * 40)\n",
    "print(f\"{'TOTAL':<15} {total_train:<8} {total_test:<8} {total_train + total_test:<8}\")\n",
    "\n",
    "print(f\"\\n✅ Dataset is perfectly balanced!\")\n",
    "print(f\"📊 Train/Test Split: {total_train}/{total_test} ({total_train/(total_train+total_test)*100:.1f}%/{total_test/(total_train+total_test)*100:.1f}%)\")\n"
   ]
  },
  {
   "cell_type": "markdown",
   "metadata": {
    "vscode": {
     "languageId": "raw"
    }
   },
   "source": [
    "## 🏗️ Model Creation & Training Pipeline\n",
    "\n",
    "We'll create a CNN model using transfer learning with **MobileNetV2** for optimal malnutrition detection.\n"
   ]
  },
  {
   "cell_type": "markdown",
   "metadata": {
    "vscode": {
     "languageId": "raw"
    }
   },
   "source": [
    "### **Data Augmentation Strategy**\n",
    "\n",
    "**Why these specific parameters?**\n",
    "\n",
    "- **Image Size: 128x128** - Optimal balance between detail preservation and computational efficiency for MobileNetV2\n",
    "- **Batch Size: 8** - Small batch size suitable for limited dataset (420 images) to avoid overfitting\n",
    "- **Rotation Range: 15°** - Realistic head pose variations without extreme distortions\n",
    "- **Shift Ranges: 10%** - Accounts for slight positioning variations in medical photos\n",
    "- **Brightness: [0.8, 1.2]** - Compensates for different lighting conditions in clinical settings\n",
    "- **Validation Split: 20%** - Standard split ensuring sufficient validation data (84 images)"
   ]
  },
  {
   "cell_type": "code",
   "execution_count": 50,
   "metadata": {},
   "outputs": [
    {
     "name": "stdout",
     "output_type": "stream",
     "text": [
      "Found 336 images belonging to 2 classes.\n",
      "Found 84 images belonging to 2 classes.\n",
      "Found 20 images belonging to 2 classes.\n",
      "✅ Data generators created!\n",
      "Training samples: 336\n",
      "Validation samples: 84\n",
      "Test samples: 20\n",
      "Classes: {'malnourished': 0, 'overnourished': 1}\n"
     ]
    }
   ],
   "source": [
    "# Data Generators with Augmentation\n",
    "IMG_SIZE = 128\n",
    "BATCH_SIZE = 8\n",
    "\n",
    "# Training data with augmentation\n",
    "train_datagen = ImageDataGenerator(\n",
    "    rescale=1./255,\n",
    "    rotation_range=15,\n",
    "    width_shift_range=0.1,\n",
    "    height_shift_range=0.1,\n",
    "    shear_range=0.1,\n",
    "    zoom_range=0.1,\n",
    "    horizontal_flip=True,\n",
    "    brightness_range=[0.8, 1.2],\n",
    "    channel_shift_range=0.1,\n",
    "    fill_mode='nearest',\n",
    "    validation_split=0.2\n",
    ")\n",
    "\n",
    "# Test data (no augmentation)\n",
    "test_datagen = ImageDataGenerator(rescale=1./255)\n",
    "\n",
    "# Create generators\n",
    "train_generator = train_datagen.flow_from_directory(\n",
    "    train_dir,\n",
    "    target_size=(IMG_SIZE, IMG_SIZE),\n",
    "    batch_size=BATCH_SIZE,\n",
    "    class_mode='binary',\n",
    "    subset='training',\n",
    "    seed=42\n",
    ")\n",
    "\n",
    "validation_generator = train_datagen.flow_from_directory(\n",
    "    train_dir,\n",
    "    target_size=(IMG_SIZE, IMG_SIZE),\n",
    "    batch_size=BATCH_SIZE,\n",
    "    class_mode='binary',\n",
    "    subset='validation',\n",
    "    seed=42\n",
    ")\n",
    "\n",
    "test_generator = test_datagen.flow_from_directory(\n",
    "    test_dir,\n",
    "    target_size=(IMG_SIZE, IMG_SIZE),\n",
    "    batch_size=BATCH_SIZE,\n",
    "    class_mode='binary',\n",
    "    shuffle=False\n",
    ")\n",
    "\n",
    "print(\"✅ Data generators created!\")\n",
    "print(f\"Training samples: {train_generator.samples}\")\n",
    "print(f\"Validation samples: {validation_generator.samples}\")\n",
    "print(f\"Test samples: {test_generator.samples}\")\n",
    "print(f\"Classes: {train_generator.class_indices}\")\n"
   ]
  },
  {
   "cell_type": "markdown",
   "metadata": {
    "vscode": {
     "languageId": "raw"
    }
   },
   "source": [
    "### **Model Architecture Design Choices**\n",
    "\n",
    "**Why MobileNetV2 with Fine-tuning?**\n",
    "\n",
    "1. **Transfer Learning Foundation**: Pre-trained on ImageNet provides robust feature extraction\n",
    "2. **Efficiency**: MobileNetV2 (alpha=0.75) balances performance with computational efficiency\n",
    "3. **Fine-tuning Strategy**: Unfreezing last 20 layers allows adaptation to medical images\n",
    "4. **Enhanced Classification Head**: Multi-layer architecture with BatchNormalization for better learning\n",
    "\n",
    "**Architecture Rationale**:\n",
    "- **Global Average Pooling**: Reduces overfitting compared to Flatten\n",
    "- **BatchNormalization**: Stabilizes training and improves convergence\n",
    "- **Progressive Dense Layers**: 64→32→1 allows hierarchical feature learning\n",
    "- **Dropout Strategy**: Balanced dropout (0.3, 0.4, 0.3) prevents overfitting\n",
    "- **L2 Regularization**: 0.001 provides regularization without over-constraining"
   ]
  },
  {
   "cell_type": "code",
   "execution_count": 51,
   "metadata": {},
   "outputs": [
    {
     "name": "stdout",
     "output_type": "stream",
     "text": [
      "🏗️ Enhanced model created successfully!\n",
      "Total parameters: 1,471,537\n",
      "Trainable parameters: 847,985\n",
      "🔧 Fine-tuning enabled: Last 20 layers of MobileNetV2 + custom head\n",
      "✨ Optimization: Enhanced head + BatchNorm + Fine-tuning for 95%+ accuracy\n"
     ]
    },
    {
     "data": {
      "text/html": [
       "<pre style=\"white-space:pre;overflow-x:auto;line-height:normal;font-family:Menlo,'DejaVu Sans Mono',consolas,'Courier New',monospace\"><span style=\"font-weight: bold\">Model: \"sequential_6\"</span>\n",
       "</pre>\n"
      ],
      "text/plain": [
       "\u001b[1mModel: \"sequential_6\"\u001b[0m\n"
      ]
     },
     "metadata": {},
     "output_type": "display_data"
    },
    {
     "data": {
      "text/html": [
       "<pre style=\"white-space:pre;overflow-x:auto;line-height:normal;font-family:Menlo,'DejaVu Sans Mono',consolas,'Courier New',monospace\">┏━━━━━━━━━━━━━━━━━━━━━━━━━━━━━━━━━┳━━━━━━━━━━━━━━━━━━━━━━━━┳━━━━━━━━━━━━━━━┓\n",
       "┃<span style=\"font-weight: bold\"> Layer (type)                    </span>┃<span style=\"font-weight: bold\"> Output Shape           </span>┃<span style=\"font-weight: bold\">       Param # </span>┃\n",
       "┡━━━━━━━━━━━━━━━━━━━━━━━━━━━━━━━━━╇━━━━━━━━━━━━━━━━━━━━━━━━╇━━━━━━━━━━━━━━━┩\n",
       "│ mobilenetv2_0.75_128            │ (<span style=\"color: #00d7ff; text-decoration-color: #00d7ff\">None</span>, <span style=\"color: #00af00; text-decoration-color: #00af00\">4</span>, <span style=\"color: #00af00; text-decoration-color: #00af00\">4</span>, <span style=\"color: #00af00; text-decoration-color: #00af00\">1280</span>)     │     <span style=\"color: #00af00; text-decoration-color: #00af00\">1,382,064</span> │\n",
       "│ (<span style=\"color: #0087ff; text-decoration-color: #0087ff\">Functional</span>)                    │                        │               │\n",
       "├─────────────────────────────────┼────────────────────────┼───────────────┤\n",
       "│ global_average_pooling2d_6      │ (<span style=\"color: #00d7ff; text-decoration-color: #00d7ff\">None</span>, <span style=\"color: #00af00; text-decoration-color: #00af00\">1280</span>)           │             <span style=\"color: #00af00; text-decoration-color: #00af00\">0</span> │\n",
       "│ (<span style=\"color: #0087ff; text-decoration-color: #0087ff\">GlobalAveragePooling2D</span>)        │                        │               │\n",
       "├─────────────────────────────────┼────────────────────────┼───────────────┤\n",
       "│ batch_normalization_2           │ (<span style=\"color: #00d7ff; text-decoration-color: #00d7ff\">None</span>, <span style=\"color: #00af00; text-decoration-color: #00af00\">1280</span>)           │         <span style=\"color: #00af00; text-decoration-color: #00af00\">5,120</span> │\n",
       "│ (<span style=\"color: #0087ff; text-decoration-color: #0087ff\">BatchNormalization</span>)            │                        │               │\n",
       "├─────────────────────────────────┼────────────────────────┼───────────────┤\n",
       "│ dropout_13 (<span style=\"color: #0087ff; text-decoration-color: #0087ff\">Dropout</span>)            │ (<span style=\"color: #00d7ff; text-decoration-color: #00d7ff\">None</span>, <span style=\"color: #00af00; text-decoration-color: #00af00\">1280</span>)           │             <span style=\"color: #00af00; text-decoration-color: #00af00\">0</span> │\n",
       "├─────────────────────────────────┼────────────────────────┼───────────────┤\n",
       "│ dense_17 (<span style=\"color: #0087ff; text-decoration-color: #0087ff\">Dense</span>)                │ (<span style=\"color: #00d7ff; text-decoration-color: #00d7ff\">None</span>, <span style=\"color: #00af00; text-decoration-color: #00af00\">64</span>)             │        <span style=\"color: #00af00; text-decoration-color: #00af00\">81,984</span> │\n",
       "├─────────────────────────────────┼────────────────────────┼───────────────┤\n",
       "│ batch_normalization_3           │ (<span style=\"color: #00d7ff; text-decoration-color: #00d7ff\">None</span>, <span style=\"color: #00af00; text-decoration-color: #00af00\">64</span>)             │           <span style=\"color: #00af00; text-decoration-color: #00af00\">256</span> │\n",
       "│ (<span style=\"color: #0087ff; text-decoration-color: #0087ff\">BatchNormalization</span>)            │                        │               │\n",
       "├─────────────────────────────────┼────────────────────────┼───────────────┤\n",
       "│ dropout_14 (<span style=\"color: #0087ff; text-decoration-color: #0087ff\">Dropout</span>)            │ (<span style=\"color: #00d7ff; text-decoration-color: #00d7ff\">None</span>, <span style=\"color: #00af00; text-decoration-color: #00af00\">64</span>)             │             <span style=\"color: #00af00; text-decoration-color: #00af00\">0</span> │\n",
       "├─────────────────────────────────┼────────────────────────┼───────────────┤\n",
       "│ dense_18 (<span style=\"color: #0087ff; text-decoration-color: #0087ff\">Dense</span>)                │ (<span style=\"color: #00d7ff; text-decoration-color: #00d7ff\">None</span>, <span style=\"color: #00af00; text-decoration-color: #00af00\">32</span>)             │         <span style=\"color: #00af00; text-decoration-color: #00af00\">2,080</span> │\n",
       "├─────────────────────────────────┼────────────────────────┼───────────────┤\n",
       "│ dropout_15 (<span style=\"color: #0087ff; text-decoration-color: #0087ff\">Dropout</span>)            │ (<span style=\"color: #00d7ff; text-decoration-color: #00d7ff\">None</span>, <span style=\"color: #00af00; text-decoration-color: #00af00\">32</span>)             │             <span style=\"color: #00af00; text-decoration-color: #00af00\">0</span> │\n",
       "├─────────────────────────────────┼────────────────────────┼───────────────┤\n",
       "│ dense_19 (<span style=\"color: #0087ff; text-decoration-color: #0087ff\">Dense</span>)                │ (<span style=\"color: #00d7ff; text-decoration-color: #00d7ff\">None</span>, <span style=\"color: #00af00; text-decoration-color: #00af00\">1</span>)              │            <span style=\"color: #00af00; text-decoration-color: #00af00\">33</span> │\n",
       "└─────────────────────────────────┴────────────────────────┴───────────────┘\n",
       "</pre>\n"
      ],
      "text/plain": [
       "┏━━━━━━━━━━━━━━━━━━━━━━━━━━━━━━━━━┳━━━━━━━━━━━━━━━━━━━━━━━━┳━━━━━━━━━━━━━━━┓\n",
       "┃\u001b[1m \u001b[0m\u001b[1mLayer (type)                   \u001b[0m\u001b[1m \u001b[0m┃\u001b[1m \u001b[0m\u001b[1mOutput Shape          \u001b[0m\u001b[1m \u001b[0m┃\u001b[1m \u001b[0m\u001b[1m      Param #\u001b[0m\u001b[1m \u001b[0m┃\n",
       "┡━━━━━━━━━━━━━━━━━━━━━━━━━━━━━━━━━╇━━━━━━━━━━━━━━━━━━━━━━━━╇━━━━━━━━━━━━━━━┩\n",
       "│ mobilenetv2_0.75_128            │ (\u001b[38;5;45mNone\u001b[0m, \u001b[38;5;34m4\u001b[0m, \u001b[38;5;34m4\u001b[0m, \u001b[38;5;34m1280\u001b[0m)     │     \u001b[38;5;34m1,382,064\u001b[0m │\n",
       "│ (\u001b[38;5;33mFunctional\u001b[0m)                    │                        │               │\n",
       "├─────────────────────────────────┼────────────────────────┼───────────────┤\n",
       "│ global_average_pooling2d_6      │ (\u001b[38;5;45mNone\u001b[0m, \u001b[38;5;34m1280\u001b[0m)           │             \u001b[38;5;34m0\u001b[0m │\n",
       "│ (\u001b[38;5;33mGlobalAveragePooling2D\u001b[0m)        │                        │               │\n",
       "├─────────────────────────────────┼────────────────────────┼───────────────┤\n",
       "│ batch_normalization_2           │ (\u001b[38;5;45mNone\u001b[0m, \u001b[38;5;34m1280\u001b[0m)           │         \u001b[38;5;34m5,120\u001b[0m │\n",
       "│ (\u001b[38;5;33mBatchNormalization\u001b[0m)            │                        │               │\n",
       "├─────────────────────────────────┼────────────────────────┼───────────────┤\n",
       "│ dropout_13 (\u001b[38;5;33mDropout\u001b[0m)            │ (\u001b[38;5;45mNone\u001b[0m, \u001b[38;5;34m1280\u001b[0m)           │             \u001b[38;5;34m0\u001b[0m │\n",
       "├─────────────────────────────────┼────────────────────────┼───────────────┤\n",
       "│ dense_17 (\u001b[38;5;33mDense\u001b[0m)                │ (\u001b[38;5;45mNone\u001b[0m, \u001b[38;5;34m64\u001b[0m)             │        \u001b[38;5;34m81,984\u001b[0m │\n",
       "├─────────────────────────────────┼────────────────────────┼───────────────┤\n",
       "│ batch_normalization_3           │ (\u001b[38;5;45mNone\u001b[0m, \u001b[38;5;34m64\u001b[0m)             │           \u001b[38;5;34m256\u001b[0m │\n",
       "│ (\u001b[38;5;33mBatchNormalization\u001b[0m)            │                        │               │\n",
       "├─────────────────────────────────┼────────────────────────┼───────────────┤\n",
       "│ dropout_14 (\u001b[38;5;33mDropout\u001b[0m)            │ (\u001b[38;5;45mNone\u001b[0m, \u001b[38;5;34m64\u001b[0m)             │             \u001b[38;5;34m0\u001b[0m │\n",
       "├─────────────────────────────────┼────────────────────────┼───────────────┤\n",
       "│ dense_18 (\u001b[38;5;33mDense\u001b[0m)                │ (\u001b[38;5;45mNone\u001b[0m, \u001b[38;5;34m32\u001b[0m)             │         \u001b[38;5;34m2,080\u001b[0m │\n",
       "├─────────────────────────────────┼────────────────────────┼───────────────┤\n",
       "│ dropout_15 (\u001b[38;5;33mDropout\u001b[0m)            │ (\u001b[38;5;45mNone\u001b[0m, \u001b[38;5;34m32\u001b[0m)             │             \u001b[38;5;34m0\u001b[0m │\n",
       "├─────────────────────────────────┼────────────────────────┼───────────────┤\n",
       "│ dense_19 (\u001b[38;5;33mDense\u001b[0m)                │ (\u001b[38;5;45mNone\u001b[0m, \u001b[38;5;34m1\u001b[0m)              │            \u001b[38;5;34m33\u001b[0m │\n",
       "└─────────────────────────────────┴────────────────────────┴───────────────┘\n"
      ]
     },
     "metadata": {},
     "output_type": "display_data"
    },
    {
     "data": {
      "text/html": [
       "<pre style=\"white-space:pre;overflow-x:auto;line-height:normal;font-family:Menlo,'DejaVu Sans Mono',consolas,'Courier New',monospace\"><span style=\"font-weight: bold\"> Total params: </span><span style=\"color: #00af00; text-decoration-color: #00af00\">1,471,537</span> (5.61 MB)\n",
       "</pre>\n"
      ],
      "text/plain": [
       "\u001b[1m Total params: \u001b[0m\u001b[38;5;34m1,471,537\u001b[0m (5.61 MB)\n"
      ]
     },
     "metadata": {},
     "output_type": "display_data"
    },
    {
     "data": {
      "text/html": [
       "<pre style=\"white-space:pre;overflow-x:auto;line-height:normal;font-family:Menlo,'DejaVu Sans Mono',consolas,'Courier New',monospace\"><span style=\"font-weight: bold\"> Trainable params: </span><span style=\"color: #00af00; text-decoration-color: #00af00\">847,985</span> (3.23 MB)\n",
       "</pre>\n"
      ],
      "text/plain": [
       "\u001b[1m Trainable params: \u001b[0m\u001b[38;5;34m847,985\u001b[0m (3.23 MB)\n"
      ]
     },
     "metadata": {},
     "output_type": "display_data"
    },
    {
     "data": {
      "text/html": [
       "<pre style=\"white-space:pre;overflow-x:auto;line-height:normal;font-family:Menlo,'DejaVu Sans Mono',consolas,'Courier New',monospace\"><span style=\"font-weight: bold\"> Non-trainable params: </span><span style=\"color: #00af00; text-decoration-color: #00af00\">623,552</span> (2.38 MB)\n",
       "</pre>\n"
      ],
      "text/plain": [
       "\u001b[1m Non-trainable params: \u001b[0m\u001b[38;5;34m623,552\u001b[0m (2.38 MB)\n"
      ]
     },
     "metadata": {},
     "output_type": "display_data"
    }
   ],
   "source": [
    "# Model Architecture - Optimized MobileNetV2 Transfer Learning\n",
    "def create_optimized_model(input_shape=(128, 128, 3)):\n",
    "    \"\"\"\n",
    "    Create MobileNetV2-based model optimized for small datasets.\n",
    "    Enhanced for better performance.\n",
    "    \"\"\"\n",
    "    base_model = MobileNetV2(\n",
    "        input_shape=input_shape,\n",
    "        include_top=False,\n",
    "        weights='imagenet',\n",
    "        alpha=0.75\n",
    "    )\n",
    "    \n",
    "    # Fine-tune the last few layers of base model for better performance\n",
    "    base_model.trainable = True\n",
    "    for layer in base_model.layers[:-20]:  # Freeze all but last 20 layers\n",
    "        layer.trainable = False\n",
    "    \n",
    "    model = models.Sequential([\n",
    "        base_model,\n",
    "        layers.GlobalAveragePooling2D(),\n",
    "        layers.BatchNormalization(),\n",
    "        layers.Dropout(0.3),\n",
    "        layers.Dense(64, activation='relu', kernel_regularizer=regularizers.l2(0.001)),\n",
    "        layers.BatchNormalization(),\n",
    "        layers.Dropout(0.4),\n",
    "        layers.Dense(32, activation='relu', kernel_regularizer=regularizers.l2(0.001)),\n",
    "        layers.Dropout(0.3),\n",
    "        layers.Dense(1, activation='sigmoid')\n",
    "    ])\n",
    "    \n",
    "    model.compile(\n",
    "        optimizer=optimizers.Adam(learning_rate=0.0001),\n",
    "        loss='binary_crossentropy',\n",
    "        metrics=['accuracy', 'precision', 'recall']\n",
    "    )\n",
    "    \n",
    "    return model\n",
    "\n",
    "# Create and compile model\n",
    "model = create_optimized_model()\n",
    "\n",
    "print(\"🏗️ Enhanced model created successfully!\")\n",
    "print(f\"Total parameters: {model.count_params():,}\")\n",
    "trainable_params = sum([np.prod(layer.trainable_weights[i].shape) for layer in model.layers for i in range(len(layer.trainable_weights))])\n",
    "print(f\"Trainable parameters: {trainable_params:,}\")\n",
    "print(f\"🔧 Fine-tuning enabled: Last 20 layers of MobileNetV2 + custom head\")\n",
    "print(\"✨ Optimization: Enhanced head + BatchNorm + Fine-tuning for 95%+ accuracy\")\n",
    "\n",
    "# Model summary\n",
    "model.summary()\n"
   ]
  },
  {
   "cell_type": "markdown",
   "metadata": {
    "vscode": {
     "languageId": "raw"
    }
   },
   "source": [
    "### **Training Strategy**\n",
    "\n",
    "**Key Parameters:**\n",
    "- **Epochs**: 30 (allows fine-tuning convergence)\n",
    "- **Early Stopping**: Monitor validation accuracy, patience=12\n",
    "- **Learning Rate Reduction**: Factor=0.2, patience=6 (aggressive optimization)"
   ]
  },
  {
   "cell_type": "code",
   "execution_count": 52,
   "metadata": {},
   "outputs": [
    {
     "name": "stdout",
     "output_type": "stream",
     "text": [
      "🚀 Starting enhanced MobileNet training with fine-tuning...\n",
      "Training for up to 30 epochs with early stopping\n",
      "📊 Enhanced architecture with fine-tuning for 95%+ accuracy!\n",
      "🔧 Strategy: Fine-tune last 20 layers + enhanced head architecture\n",
      "Epoch 1/30\n",
      "\u001b[1m42/42\u001b[0m \u001b[32m━━━━━━━━━━━━━━━━━━━━\u001b[0m\u001b[37m\u001b[0m \u001b[1m0s\u001b[0m 22ms/step - accuracy: 0.5102 - loss: 1.3144 - precision: 0.5146 - recall: 0.2090\n",
      "Epoch 1: val_accuracy improved from None to 0.61905, saving model to ../models/malnutrition_model.h5\n"
     ]
    },
    {
     "name": "stderr",
     "output_type": "stream",
     "text": [
      "WARNING:absl:You are saving your model as an HDF5 file via `model.save()` or `keras.saving.save_model(model)`. This file format is considered legacy. We recommend using instead the native Keras format, e.g. `model.save('my_model.keras')` or `keras.saving.save_model(model, 'my_model.keras')`. \n"
     ]
    },
    {
     "name": "stdout",
     "output_type": "stream",
     "text": [
      "\u001b[1m42/42\u001b[0m \u001b[32m━━━━━━━━━━━━━━━━━━━━\u001b[0m\u001b[37m\u001b[0m \u001b[1m7s\u001b[0m 50ms/step - accuracy: 0.5268 - loss: 1.1762 - precision: 0.5652 - recall: 0.2321 - val_accuracy: 0.6190 - val_loss: 0.8381 - val_precision: 0.5735 - val_recall: 0.9286 - learning_rate: 1.0000e-04\n",
      "Epoch 2/30\n",
      "\u001b[1m42/42\u001b[0m \u001b[32m━━━━━━━━━━━━━━━━━━━━\u001b[0m\u001b[37m\u001b[0m \u001b[1m0s\u001b[0m 34ms/step - accuracy: 0.6133 - loss: 0.9093 - precision: 0.7046 - recall: 0.3465\n",
      "Epoch 2: val_accuracy did not improve from 0.61905\n",
      "\u001b[1m42/42\u001b[0m \u001b[32m━━━━━━━━━━━━━━━━━━━━\u001b[0m\u001b[37m\u001b[0m \u001b[1m2s\u001b[0m 42ms/step - accuracy: 0.6429 - loss: 0.8736 - precision: 0.7667 - recall: 0.4107 - val_accuracy: 0.6190 - val_loss: 0.8513 - val_precision: 0.5735 - val_recall: 0.9286 - learning_rate: 1.0000e-04\n",
      "Epoch 3/30\n",
      "\u001b[1m40/42\u001b[0m \u001b[32m━━━━━━━━━━━━━━━━━━━\u001b[0m\u001b[37m━\u001b[0m \u001b[1m0s\u001b[0m 33ms/step - accuracy: 0.7596 - loss: 0.7726 - precision: 0.9443 - recall: 0.5675\n",
      "Epoch 3: val_accuracy improved from 0.61905 to 0.67857, saving model to ../models/malnutrition_model.h5\n"
     ]
    },
    {
     "name": "stderr",
     "output_type": "stream",
     "text": [
      "WARNING:absl:You are saving your model as an HDF5 file via `model.save()` or `keras.saving.save_model(model)`. This file format is considered legacy. We recommend using instead the native Keras format, e.g. `model.save('my_model.keras')` or `keras.saving.save_model(model, 'my_model.keras')`. \n"
     ]
    },
    {
     "name": "stdout",
     "output_type": "stream",
     "text": [
      "\u001b[1m42/42\u001b[0m \u001b[32m━━━━━━━━━━━━━━━━━━━━\u001b[0m\u001b[37m\u001b[0m \u001b[1m2s\u001b[0m 40ms/step - accuracy: 0.7589 - loss: 0.7589 - precision: 0.9307 - recall: 0.5595 - val_accuracy: 0.6786 - val_loss: 0.7628 - val_precision: 0.6087 - val_recall: 1.0000 - learning_rate: 1.0000e-04\n",
      "Epoch 4/30\n",
      "\u001b[1m40/42\u001b[0m \u001b[32m━━━━━━━━━━━━━━━━━━━\u001b[0m\u001b[37m━\u001b[0m \u001b[1m0s\u001b[0m 25ms/step - accuracy: 0.7722 - loss: 0.6227 - precision: 0.9082 - recall: 0.6003\n",
      "Epoch 4: val_accuracy improved from 0.67857 to 0.71429, saving model to ../models/malnutrition_model.h5\n"
     ]
    },
    {
     "name": "stderr",
     "output_type": "stream",
     "text": [
      "WARNING:absl:You are saving your model as an HDF5 file via `model.save()` or `keras.saving.save_model(model)`. This file format is considered legacy. We recommend using instead the native Keras format, e.g. `model.save('my_model.keras')` or `keras.saving.save_model(model, 'my_model.keras')`. \n"
     ]
    },
    {
     "name": "stdout",
     "output_type": "stream",
     "text": [
      "\u001b[1m42/42\u001b[0m \u001b[32m━━━━━━━━━━━━━━━━━━━━\u001b[0m\u001b[37m\u001b[0m \u001b[1m1s\u001b[0m 32ms/step - accuracy: 0.7440 - loss: 0.6886 - precision: 0.8727 - recall: 0.5714 - val_accuracy: 0.7143 - val_loss: 0.7158 - val_precision: 0.6364 - val_recall: 1.0000 - learning_rate: 1.0000e-04\n",
      "Epoch 5/30\n",
      "\u001b[1m41/42\u001b[0m \u001b[32m━━━━━━━━━━━━━━━━━━━\u001b[0m\u001b[37m━\u001b[0m \u001b[1m0s\u001b[0m 27ms/step - accuracy: 0.7931 - loss: 0.5948 - precision: 0.8835 - recall: 0.6839\n",
      "Epoch 5: val_accuracy did not improve from 0.71429\n",
      "\u001b[1m42/42\u001b[0m \u001b[32m━━━━━━━━━━━━━━━━━━━━\u001b[0m\u001b[37m\u001b[0m \u001b[1m1s\u001b[0m 34ms/step - accuracy: 0.7946 - loss: 0.5813 - precision: 0.8898 - recall: 0.6726 - val_accuracy: 0.7024 - val_loss: 0.7172 - val_precision: 0.6349 - val_recall: 0.9524 - learning_rate: 1.0000e-04\n",
      "Epoch 6/30\n",
      "\u001b[1m42/42\u001b[0m \u001b[32m━━━━━━━━━━━━━━━━━━━━\u001b[0m\u001b[37m\u001b[0m \u001b[1m0s\u001b[0m 25ms/step - accuracy: 0.8265 - loss: 0.5313 - precision: 0.9123 - recall: 0.7281\n",
      "Epoch 6: val_accuracy improved from 0.71429 to 0.76190, saving model to ../models/malnutrition_model.h5\n"
     ]
    },
    {
     "name": "stderr",
     "output_type": "stream",
     "text": [
      "WARNING:absl:You are saving your model as an HDF5 file via `model.save()` or `keras.saving.save_model(model)`. This file format is considered legacy. We recommend using instead the native Keras format, e.g. `model.save('my_model.keras')` or `keras.saving.save_model(model, 'my_model.keras')`. \n"
     ]
    },
    {
     "name": "stdout",
     "output_type": "stream",
     "text": [
      "\u001b[1m42/42\u001b[0m \u001b[32m━━━━━━━━━━━━━━━━━━━━\u001b[0m\u001b[37m\u001b[0m \u001b[1m1s\u001b[0m 33ms/step - accuracy: 0.8274 - loss: 0.5359 - precision: 0.9104 - recall: 0.7262 - val_accuracy: 0.7619 - val_loss: 0.6157 - val_precision: 0.6833 - val_recall: 0.9762 - learning_rate: 1.0000e-04\n",
      "Epoch 7/30\n",
      "\u001b[1m42/42\u001b[0m \u001b[32m━━━━━━━━━━━━━━━━━━━━\u001b[0m\u001b[37m\u001b[0m \u001b[1m0s\u001b[0m 31ms/step - accuracy: 0.8908 - loss: 0.4486 - precision: 0.9496 - recall: 0.8295\n",
      "Epoch 7: val_accuracy improved from 0.76190 to 0.80952, saving model to ../models/malnutrition_model.h5\n"
     ]
    },
    {
     "name": "stderr",
     "output_type": "stream",
     "text": [
      "WARNING:absl:You are saving your model as an HDF5 file via `model.save()` or `keras.saving.save_model(model)`. This file format is considered legacy. We recommend using instead the native Keras format, e.g. `model.save('my_model.keras')` or `keras.saving.save_model(model, 'my_model.keras')`. \n"
     ]
    },
    {
     "name": "stdout",
     "output_type": "stream",
     "text": [
      "\u001b[1m42/42\u001b[0m \u001b[32m━━━━━━━━━━━━━━━━━━━━\u001b[0m\u001b[37m\u001b[0m \u001b[1m2s\u001b[0m 40ms/step - accuracy: 0.8810 - loss: 0.4558 - precision: 0.9384 - recall: 0.8155 - val_accuracy: 0.8095 - val_loss: 0.5955 - val_precision: 0.7321 - val_recall: 0.9762 - learning_rate: 1.0000e-04\n",
      "Epoch 8/30\n",
      "\u001b[1m41/42\u001b[0m \u001b[32m━━━━━━━━━━━━━━━━━━━\u001b[0m\u001b[37m━\u001b[0m \u001b[1m0s\u001b[0m 27ms/step - accuracy: 0.8153 - loss: 0.5379 - precision: 0.9230 - recall: 0.6982\n",
      "Epoch 8: val_accuracy improved from 0.80952 to 0.89286, saving model to ../models/malnutrition_model.h5\n"
     ]
    },
    {
     "name": "stderr",
     "output_type": "stream",
     "text": [
      "WARNING:absl:You are saving your model as an HDF5 file via `model.save()` or `keras.saving.save_model(model)`. This file format is considered legacy. We recommend using instead the native Keras format, e.g. `model.save('my_model.keras')` or `keras.saving.save_model(model, 'my_model.keras')`. \n"
     ]
    },
    {
     "name": "stdout",
     "output_type": "stream",
     "text": [
      "\u001b[1m42/42\u001b[0m \u001b[32m━━━━━━━━━━━━━━━━━━━━\u001b[0m\u001b[37m\u001b[0m \u001b[1m1s\u001b[0m 34ms/step - accuracy: 0.8423 - loss: 0.4815 - precision: 0.9259 - recall: 0.7440 - val_accuracy: 0.8929 - val_loss: 0.4380 - val_precision: 0.8367 - val_recall: 0.9762 - learning_rate: 1.0000e-04\n",
      "Epoch 9/30\n",
      "\u001b[1m40/42\u001b[0m \u001b[32m━━━━━━━━━━━━━━━━━━━\u001b[0m\u001b[37m━\u001b[0m \u001b[1m0s\u001b[0m 26ms/step - accuracy: 0.8614 - loss: 0.4237 - precision: 0.9198 - recall: 0.7826\n",
      "Epoch 9: val_accuracy did not improve from 0.89286\n",
      "\u001b[1m42/42\u001b[0m \u001b[32m━━━━━━━━━━━━━━━━━━━━\u001b[0m\u001b[37m\u001b[0m \u001b[1m1s\u001b[0m 33ms/step - accuracy: 0.8810 - loss: 0.4135 - precision: 0.9384 - recall: 0.8155 - val_accuracy: 0.8929 - val_loss: 0.4214 - val_precision: 0.8667 - val_recall: 0.9286 - learning_rate: 1.0000e-04\n",
      "Epoch 10/30\n",
      "\u001b[1m41/42\u001b[0m \u001b[32m━━━━━━━━━━━━━━━━━━━\u001b[0m\u001b[37m━\u001b[0m \u001b[1m0s\u001b[0m 25ms/step - accuracy: 0.8888 - loss: 0.4620 - precision: 0.9308 - recall: 0.8477\n",
      "Epoch 10: val_accuracy did not improve from 0.89286\n",
      "\u001b[1m42/42\u001b[0m \u001b[32m━━━━━━━━━━━━━━━━━━━━\u001b[0m\u001b[37m\u001b[0m \u001b[1m1s\u001b[0m 31ms/step - accuracy: 0.9048 - loss: 0.4137 - precision: 0.9359 - recall: 0.8690 - val_accuracy: 0.8810 - val_loss: 0.4008 - val_precision: 0.8636 - val_recall: 0.9048 - learning_rate: 1.0000e-04\n",
      "Epoch 11/30\n",
      "\u001b[1m42/42\u001b[0m \u001b[32m━━━━━━━━━━━━━━━━━━━━\u001b[0m\u001b[37m\u001b[0m \u001b[1m0s\u001b[0m 27ms/step - accuracy: 0.8895 - loss: 0.4534 - precision: 0.9318 - recall: 0.8536\n",
      "Epoch 11: val_accuracy improved from 0.89286 to 0.90476, saving model to ../models/malnutrition_model.h5\n"
     ]
    },
    {
     "name": "stderr",
     "output_type": "stream",
     "text": [
      "WARNING:absl:You are saving your model as an HDF5 file via `model.save()` or `keras.saving.save_model(model)`. This file format is considered legacy. We recommend using instead the native Keras format, e.g. `model.save('my_model.keras')` or `keras.saving.save_model(model, 'my_model.keras')`. \n"
     ]
    },
    {
     "name": "stdout",
     "output_type": "stream",
     "text": [
      "\u001b[1m42/42\u001b[0m \u001b[32m━━━━━━━━━━━━━━━━━━━━\u001b[0m\u001b[37m\u001b[0m \u001b[1m1s\u001b[0m 34ms/step - accuracy: 0.8988 - loss: 0.4229 - precision: 0.9241 - recall: 0.8690 - val_accuracy: 0.9048 - val_loss: 0.3438 - val_precision: 0.9250 - val_recall: 0.8810 - learning_rate: 1.0000e-04\n",
      "Epoch 12/30\n",
      "\u001b[1m41/42\u001b[0m \u001b[32m━━━━━━━━━━━━━━━━━━━\u001b[0m\u001b[37m━\u001b[0m \u001b[1m0s\u001b[0m 31ms/step - accuracy: 0.9443 - loss: 0.3356 - precision: 0.9865 - recall: 0.8921\n",
      "Epoch 12: val_accuracy improved from 0.90476 to 0.92857, saving model to ../models/malnutrition_model.h5\n"
     ]
    },
    {
     "name": "stderr",
     "output_type": "stream",
     "text": [
      "WARNING:absl:You are saving your model as an HDF5 file via `model.save()` or `keras.saving.save_model(model)`. This file format is considered legacy. We recommend using instead the native Keras format, e.g. `model.save('my_model.keras')` or `keras.saving.save_model(model, 'my_model.keras')`. \n"
     ]
    },
    {
     "name": "stdout",
     "output_type": "stream",
     "text": [
      "\u001b[1m42/42\u001b[0m \u001b[32m━━━━━━━━━━━━━━━━━━━━\u001b[0m\u001b[37m\u001b[0m \u001b[1m2s\u001b[0m 39ms/step - accuracy: 0.9256 - loss: 0.3648 - precision: 0.9799 - recall: 0.8690 - val_accuracy: 0.9286 - val_loss: 0.3427 - val_precision: 0.9737 - val_recall: 0.8810 - learning_rate: 1.0000e-04\n",
      "Epoch 13/30\n",
      "\u001b[1m42/42\u001b[0m \u001b[32m━━━━━━━━━━━━━━━━━━━━\u001b[0m\u001b[37m\u001b[0m \u001b[1m0s\u001b[0m 27ms/step - accuracy: 0.9224 - loss: 0.3598 - precision: 0.9648 - recall: 0.8750\n",
      "Epoch 13: val_accuracy did not improve from 0.92857\n",
      "\u001b[1m42/42\u001b[0m \u001b[32m━━━━━━━━━━━━━━━━━━━━\u001b[0m\u001b[37m\u001b[0m \u001b[1m1s\u001b[0m 34ms/step - accuracy: 0.9077 - loss: 0.3921 - precision: 0.9536 - recall: 0.8571 - val_accuracy: 0.8929 - val_loss: 0.3412 - val_precision: 0.9231 - val_recall: 0.8571 - learning_rate: 1.0000e-04\n",
      "Epoch 14/30\n",
      "\u001b[1m42/42\u001b[0m \u001b[32m━━━━━━━━━━━━━━━━━━━━\u001b[0m\u001b[37m\u001b[0m \u001b[1m0s\u001b[0m 31ms/step - accuracy: 0.8897 - loss: 0.3912 - precision: 0.9040 - recall: 0.8713\n",
      "Epoch 14: val_accuracy did not improve from 0.92857\n",
      "\u001b[1m42/42\u001b[0m \u001b[32m━━━━━━━━━━━━━━━━━━━━\u001b[0m\u001b[37m\u001b[0m \u001b[1m2s\u001b[0m 38ms/step - accuracy: 0.9048 - loss: 0.3743 - precision: 0.9304 - recall: 0.8750 - val_accuracy: 0.9167 - val_loss: 0.3109 - val_precision: 0.9487 - val_recall: 0.8810 - learning_rate: 1.0000e-04\n",
      "Epoch 15/30\n",
      "\u001b[1m42/42\u001b[0m \u001b[32m━━━━━━━━━━━━━━━━━━━━\u001b[0m\u001b[37m\u001b[0m \u001b[1m0s\u001b[0m 30ms/step - accuracy: 0.9240 - loss: 0.3506 - precision: 0.9673 - recall: 0.8861\n",
      "Epoch 15: val_accuracy did not improve from 0.92857\n",
      "\u001b[1m42/42\u001b[0m \u001b[32m━━━━━━━━━━━━━━━━━━━━\u001b[0m\u001b[37m\u001b[0m \u001b[1m2s\u001b[0m 36ms/step - accuracy: 0.9464 - loss: 0.3115 - precision: 0.9630 - recall: 0.9286 - val_accuracy: 0.9048 - val_loss: 0.3177 - val_precision: 0.9474 - val_recall: 0.8571 - learning_rate: 1.0000e-04\n",
      "Epoch 16/30\n",
      "\u001b[1m42/42\u001b[0m \u001b[32m━━━━━━━━━━━━━━━━━━━━\u001b[0m\u001b[37m\u001b[0m \u001b[1m0s\u001b[0m 33ms/step - accuracy: 0.9272 - loss: 0.3254 - precision: 0.9348 - recall: 0.9197\n",
      "Epoch 16: val_accuracy did not improve from 0.92857\n",
      "\u001b[1m42/42\u001b[0m \u001b[32m━━━━━━━━━━━━━━━━━━━━\u001b[0m\u001b[37m\u001b[0m \u001b[1m2s\u001b[0m 40ms/step - accuracy: 0.9375 - loss: 0.3274 - precision: 0.9565 - recall: 0.9167 - val_accuracy: 0.9167 - val_loss: 0.3272 - val_precision: 0.9730 - val_recall: 0.8571 - learning_rate: 1.0000e-04\n",
      "Epoch 17/30\n",
      "\u001b[1m42/42\u001b[0m \u001b[32m━━━━━━━━━━━━━━━━━━━━\u001b[0m\u001b[37m\u001b[0m \u001b[1m0s\u001b[0m 32ms/step - accuracy: 0.9853 - loss: 0.2484 - precision: 0.9897 - recall: 0.9796\n",
      "Epoch 17: val_accuracy did not improve from 0.92857\n",
      "\u001b[1m42/42\u001b[0m \u001b[32m━━━━━━━━━━━━━━━━━━━━\u001b[0m\u001b[37m\u001b[0m \u001b[1m2s\u001b[0m 41ms/step - accuracy: 0.9673 - loss: 0.2784 - precision: 0.9876 - recall: 0.9464 - val_accuracy: 0.9286 - val_loss: 0.2917 - val_precision: 0.9500 - val_recall: 0.9048 - learning_rate: 1.0000e-04\n",
      "Epoch 18/30\n",
      "\u001b[1m42/42\u001b[0m \u001b[32m━━━━━━━━━━━━━━━━━━━━\u001b[0m\u001b[37m\u001b[0m \u001b[1m0s\u001b[0m 36ms/step - accuracy: 0.9486 - loss: 0.3131 - precision: 0.9639 - recall: 0.9323\n",
      "Epoch 18: val_accuracy improved from 0.92857 to 0.95238, saving model to ../models/malnutrition_model.h5\n"
     ]
    },
    {
     "name": "stderr",
     "output_type": "stream",
     "text": [
      "WARNING:absl:You are saving your model as an HDF5 file via `model.save()` or `keras.saving.save_model(model)`. This file format is considered legacy. We recommend using instead the native Keras format, e.g. `model.save('my_model.keras')` or `keras.saving.save_model(model, 'my_model.keras')`. \n"
     ]
    },
    {
     "name": "stdout",
     "output_type": "stream",
     "text": [
      "\u001b[1m42/42\u001b[0m \u001b[32m━━━━━━━━━━━━━━━━━━━━\u001b[0m\u001b[37m\u001b[0m \u001b[1m2s\u001b[0m 48ms/step - accuracy: 0.9464 - loss: 0.3002 - precision: 0.9688 - recall: 0.9226 - val_accuracy: 0.9524 - val_loss: 0.2776 - val_precision: 1.0000 - val_recall: 0.9048 - learning_rate: 1.0000e-04\n",
      "Epoch 19/30\n",
      "\u001b[1m42/42\u001b[0m \u001b[32m━━━━━━━━━━━━━━━━━━━━\u001b[0m\u001b[37m\u001b[0m \u001b[1m0s\u001b[0m 39ms/step - accuracy: 0.9157 - loss: 0.3727 - precision: 0.9904 - recall: 0.8537\n",
      "Epoch 19: val_accuracy did not improve from 0.95238\n",
      "\u001b[1m42/42\u001b[0m \u001b[32m━━━━━━━━━━━━━━━━━━━━\u001b[0m\u001b[37m\u001b[0m \u001b[1m2s\u001b[0m 48ms/step - accuracy: 0.9375 - loss: 0.3387 - precision: 0.9742 - recall: 0.8988 - val_accuracy: 0.9405 - val_loss: 0.3087 - val_precision: 0.9302 - val_recall: 0.9524 - learning_rate: 1.0000e-04\n",
      "Epoch 20/30\n",
      "\u001b[1m41/42\u001b[0m \u001b[32m━━━━━━━━━━━━━━━━━━━\u001b[0m\u001b[37m━\u001b[0m \u001b[1m0s\u001b[0m 41ms/step - accuracy: 0.9648 - loss: 0.2730 - precision: 0.9770 - recall: 0.9572\n",
      "Epoch 20: val_accuracy did not improve from 0.95238\n",
      "\u001b[1m42/42\u001b[0m \u001b[32m━━━━━━━━━━━━━━━━━━━━\u001b[0m\u001b[37m\u001b[0m \u001b[1m2s\u001b[0m 51ms/step - accuracy: 0.9613 - loss: 0.2823 - precision: 0.9641 - recall: 0.9583 - val_accuracy: 0.9167 - val_loss: 0.3427 - val_precision: 0.9487 - val_recall: 0.8810 - learning_rate: 1.0000e-04\n",
      "Epoch 21/30\n",
      "\u001b[1m42/42\u001b[0m \u001b[32m━━━━━━━━━━━━━━━━━━━━\u001b[0m\u001b[37m\u001b[0m \u001b[1m0s\u001b[0m 56ms/step - accuracy: 0.9094 - loss: 0.3780 - precision: 0.9087 - recall: 0.8917\n",
      "Epoch 21: val_accuracy improved from 0.95238 to 0.96429, saving model to ../models/malnutrition_model.h5\n"
     ]
    },
    {
     "name": "stderr",
     "output_type": "stream",
     "text": [
      "WARNING:absl:You are saving your model as an HDF5 file via `model.save()` or `keras.saving.save_model(model)`. This file format is considered legacy. We recommend using instead the native Keras format, e.g. `model.save('my_model.keras')` or `keras.saving.save_model(model, 'my_model.keras')`. \n"
     ]
    },
    {
     "name": "stdout",
     "output_type": "stream",
     "text": [
      "\u001b[1m42/42\u001b[0m \u001b[32m━━━━━━━━━━━━━━━━━━━━\u001b[0m\u001b[37m\u001b[0m \u001b[1m3s\u001b[0m 73ms/step - accuracy: 0.9196 - loss: 0.3744 - precision: 0.9379 - recall: 0.8988 - val_accuracy: 0.9643 - val_loss: 0.2753 - val_precision: 0.9535 - val_recall: 0.9762 - learning_rate: 1.0000e-04\n",
      "Epoch 22/30\n",
      "\u001b[1m42/42\u001b[0m \u001b[32m━━━━━━━━━━━━━━━━━━━━\u001b[0m\u001b[37m\u001b[0m \u001b[1m0s\u001b[0m 219ms/step - accuracy: 0.9824 - loss: 0.2490 - precision: 0.9977 - recall: 0.9663\n",
      "Epoch 22: val_accuracy improved from 0.96429 to 0.97619, saving model to ../models/malnutrition_model.h5\n"
     ]
    },
    {
     "name": "stderr",
     "output_type": "stream",
     "text": [
      "WARNING:absl:You are saving your model as an HDF5 file via `model.save()` or `keras.saving.save_model(model)`. This file format is considered legacy. We recommend using instead the native Keras format, e.g. `model.save('my_model.keras')` or `keras.saving.save_model(model, 'my_model.keras')`. \n"
     ]
    },
    {
     "name": "stdout",
     "output_type": "stream",
     "text": [
      "\u001b[1m42/42\u001b[0m \u001b[32m━━━━━━━━━━━━━━━━━━━━\u001b[0m\u001b[37m\u001b[0m \u001b[1m12s\u001b[0m 295ms/step - accuracy: 0.9643 - loss: 0.2637 - precision: 0.9937 - recall: 0.9345 - val_accuracy: 0.9762 - val_loss: 0.2637 - val_precision: 0.9762 - val_recall: 0.9762 - learning_rate: 1.0000e-04\n",
      "Epoch 23/30\n",
      "\u001b[1m42/42\u001b[0m \u001b[32m━━━━━━━━━━━━━━━━━━━━\u001b[0m\u001b[37m\u001b[0m \u001b[1m0s\u001b[0m 315ms/step - accuracy: 0.9268 - loss: 0.3505 - precision: 0.8977 - recall: 0.9631\n",
      "Epoch 23: val_accuracy did not improve from 0.97619\n",
      "\u001b[1m42/42\u001b[0m \u001b[32m━━━━━━━━━━━━━━━━━━━━\u001b[0m\u001b[37m\u001b[0m \u001b[1m16s\u001b[0m 376ms/step - accuracy: 0.9494 - loss: 0.3064 - precision: 0.9415 - recall: 0.9583 - val_accuracy: 0.9643 - val_loss: 0.2801 - val_precision: 0.9535 - val_recall: 0.9762 - learning_rate: 1.0000e-04\n",
      "Epoch 24/30\n",
      "\u001b[1m42/42\u001b[0m \u001b[32m━━━━━━━━━━━━━━━━━━━━\u001b[0m\u001b[37m\u001b[0m \u001b[1m0s\u001b[0m 297ms/step - accuracy: 0.9486 - loss: 0.2912 - precision: 0.9528 - recall: 0.9379\n",
      "Epoch 24: val_accuracy did not improve from 0.97619\n",
      "\u001b[1m42/42\u001b[0m \u001b[32m━━━━━━━━━━━━━━━━━━━━\u001b[0m\u001b[37m\u001b[0m \u001b[1m15s\u001b[0m 353ms/step - accuracy: 0.9494 - loss: 0.2899 - precision: 0.9809 - recall: 0.9167 - val_accuracy: 0.9405 - val_loss: 0.3067 - val_precision: 0.9302 - val_recall: 0.9524 - learning_rate: 1.0000e-04\n",
      "Epoch 25/30\n",
      "\u001b[1m42/42\u001b[0m \u001b[32m━━━━━━━━━━━━━━━━━━━━\u001b[0m\u001b[37m\u001b[0m \u001b[1m0s\u001b[0m 410ms/step - accuracy: 0.9693 - loss: 0.2466 - precision: 0.9808 - recall: 0.9543\n",
      "Epoch 25: val_accuracy did not improve from 0.97619\n",
      "\u001b[1m42/42\u001b[0m \u001b[32m━━━━━━━━━━━━━━━━━━━━\u001b[0m\u001b[37m\u001b[0m \u001b[1m23s\u001b[0m 550ms/step - accuracy: 0.9792 - loss: 0.2464 - precision: 0.9820 - recall: 0.9762 - val_accuracy: 0.9524 - val_loss: 0.2668 - val_precision: 0.9524 - val_recall: 0.9524 - learning_rate: 1.0000e-04\n",
      "Epoch 26/30\n",
      "\u001b[1m42/42\u001b[0m \u001b[32m━━━━━━━━━━━━━━━━━━━━\u001b[0m\u001b[37m\u001b[0m \u001b[1m0s\u001b[0m 444ms/step - accuracy: 0.9508 - loss: 0.2937 - precision: 0.9448 - recall: 0.9514\n",
      "Epoch 26: val_accuracy did not improve from 0.97619\n",
      "\u001b[1m42/42\u001b[0m \u001b[32m━━━━━━━━━━━━━━━━━━━━\u001b[0m\u001b[37m\u001b[0m \u001b[1m23s\u001b[0m 534ms/step - accuracy: 0.9405 - loss: 0.3154 - precision: 0.9458 - recall: 0.9345 - val_accuracy: 0.9643 - val_loss: 0.2760 - val_precision: 0.9535 - val_recall: 0.9762 - learning_rate: 1.0000e-04\n",
      "Epoch 27/30\n",
      "\u001b[1m42/42\u001b[0m \u001b[32m━━━━━━━━━━━━━━━━━━━━\u001b[0m\u001b[37m\u001b[0m \u001b[1m0s\u001b[0m 310ms/step - accuracy: 0.9618 - loss: 0.2694 - precision: 0.9852 - recall: 0.9328\n",
      "Epoch 27: val_accuracy did not improve from 0.97619\n",
      "\u001b[1m42/42\u001b[0m \u001b[32m━━━━━━━━━━━━━━━━━━━━\u001b[0m\u001b[37m\u001b[0m \u001b[1m15s\u001b[0m 367ms/step - accuracy: 0.9464 - loss: 0.3020 - precision: 0.9688 - recall: 0.9226 - val_accuracy: 0.9524 - val_loss: 0.2878 - val_precision: 0.9318 - val_recall: 0.9762 - learning_rate: 1.0000e-04\n",
      "Epoch 28/30\n",
      "\u001b[1m42/42\u001b[0m \u001b[32m━━━━━━━━━━━━━━━━━━━━\u001b[0m\u001b[37m\u001b[0m \u001b[1m0s\u001b[0m 396ms/step - accuracy: 0.9841 - loss: 0.2440 - precision: 0.9830 - recall: 0.9856\n",
      "Epoch 28: ReduceLROnPlateau reducing learning rate to 1.9999999494757503e-05.\n",
      "\n",
      "Epoch 28: val_accuracy did not improve from 0.97619\n",
      "\u001b[1m42/42\u001b[0m \u001b[32m━━━━━━━━━━━━━━━━━━━━\u001b[0m\u001b[37m\u001b[0m \u001b[1m23s\u001b[0m 553ms/step - accuracy: 0.9583 - loss: 0.2930 - precision: 0.9753 - recall: 0.9405 - val_accuracy: 0.9643 - val_loss: 0.2645 - val_precision: 0.9535 - val_recall: 0.9762 - learning_rate: 1.0000e-04\n",
      "Epoch 29/30\n",
      "\u001b[1m42/42\u001b[0m \u001b[32m━━━━━━━━━━━━━━━━━━━━\u001b[0m\u001b[37m\u001b[0m \u001b[1m0s\u001b[0m 371ms/step - accuracy: 0.9820 - loss: 0.2606 - precision: 0.9810 - recall: 0.9832\n",
      "Epoch 29: val_accuracy did not improve from 0.97619\n",
      "\u001b[1m42/42\u001b[0m \u001b[32m━━━━━━━━━━━━━━━━━━━━\u001b[0m\u001b[37m\u001b[0m \u001b[1m19s\u001b[0m 445ms/step - accuracy: 0.9613 - loss: 0.2924 - precision: 0.9697 - recall: 0.9524 - val_accuracy: 0.9048 - val_loss: 0.3122 - val_precision: 0.9048 - val_recall: 0.9048 - learning_rate: 2.0000e-05\n",
      "Epoch 30/30\n",
      "\u001b[1m42/42\u001b[0m \u001b[32m━━━━━━━━━━━━━━━━━━━━\u001b[0m\u001b[37m\u001b[0m \u001b[1m0s\u001b[0m 404ms/step - accuracy: 0.9608 - loss: 0.2831 - precision: 0.9776 - recall: 0.9567\n",
      "Epoch 30: val_accuracy did not improve from 0.97619\n",
      "\u001b[1m42/42\u001b[0m \u001b[32m━━━━━━━━━━━━━━━━━━━━\u001b[0m\u001b[37m\u001b[0m \u001b[1m20s\u001b[0m 487ms/step - accuracy: 0.9643 - loss: 0.2909 - precision: 0.9535 - recall: 0.9762 - val_accuracy: 0.9643 - val_loss: 0.2758 - val_precision: 0.9333 - val_recall: 1.0000 - learning_rate: 2.0000e-05\n",
      "Restoring model weights from the end of the best epoch: 22.\n",
      "✅ Enhanced training completed!\n"
     ]
    }
   ],
   "source": [
    "# Training Configuration & Callbacks - Enhanced Strategy\n",
    "EPOCHS = 30  # More epochs for fine-tuning\n",
    "\n",
    "# Enhanced callbacks for better training\n",
    "callbacks = [\n",
    "    EarlyStopping(\n",
    "        monitor='val_accuracy',  # Monitor accuracy instead of loss\n",
    "        patience=12,\n",
    "        restore_best_weights=True,\n",
    "        verbose=1,\n",
    "        mode='max'\n",
    "    ),\n",
    "    ReduceLROnPlateau(\n",
    "        monitor='val_loss',\n",
    "        factor=0.2,  # More aggressive reduction\n",
    "        patience=6,\n",
    "        min_lr=1e-8,\n",
    "        verbose=1,\n",
    "        cooldown=2\n",
    "    ),\n",
    "    ModelCheckpoint(\n",
    "        '../models/malnutrition_model.h5',\n",
    "        monitor='val_accuracy',  # Save best accuracy model\n",
    "        save_best_only=True,\n",
    "        verbose=1,\n",
    "        mode='max'\n",
    "    )\n",
    "]\n",
    "\n",
    "print(\"🚀 Starting enhanced MobileNet training with fine-tuning...\")\n",
    "print(f\"Training for up to {EPOCHS} epochs with early stopping\")\n",
    "print(\"📊 Enhanced architecture with fine-tuning for 95%+ accuracy!\")\n",
    "print(\"🔧 Strategy: Fine-tune last 20 layers + enhanced head architecture\")\n",
    "\n",
    "# Train the model\n",
    "history = model.fit(\n",
    "    train_generator,\n",
    "    epochs=EPOCHS,\n",
    "    validation_data=validation_generator,\n",
    "    callbacks=callbacks,\n",
    "    verbose=1\n",
    ")\n",
    "\n",
    "print(\"✅ Enhanced training completed!\")\n"
   ]
  },
  {
   "cell_type": "markdown",
   "metadata": {
    "vscode": {
     "languageId": "raw"
    }
   },
   "source": [
    "### **Performance Interpretation**\n",
    "\n",
    "**Key Metrics Explained:**\n",
    "- **Accuracy**: Overall correct predictions (target: >90%)\n",
    "- **Precision**: Of predicted positives, how many are actually positive\n",
    "- **Recall**: Of actual positives, how many are correctly identified\n",
    "- **AUC-ROC**: Area under curve (>0.9 indicates excellent discrimination)"
   ]
  },
  {
   "cell_type": "markdown",
   "metadata": {
    "vscode": {
     "languageId": "raw"
    }
   },
   "source": [
    "## 📊 Model Evaluation & Performance Analysis\n",
    "\n",
    "**This section demonstrates \"how good the model is\" using comprehensive metrics required for ML evaluation.**\n"
   ]
  },
  {
   "cell_type": "code",
   "execution_count": 53,
   "metadata": {},
   "outputs": [
    {
     "name": "stdout",
     "output_type": "stream",
     "text": [
      "🔍 Evaluating model performance...\n",
      "WARNING:tensorflow:5 out of the last 7 calls to <function TensorFlowTrainer.make_predict_function.<locals>.one_step_on_data_distributed at 0x17e7e3100> triggered tf.function retracing. Tracing is expensive and the excessive number of tracings could be due to (1) creating @tf.function repeatedly in a loop, (2) passing tensors with different shapes, (3) passing Python objects instead of tensors. For (1), please define your @tf.function outside of the loop. For (2), @tf.function has reduce_retracing=True option that can avoid unnecessary retracing. For (3), please refer to https://www.tensorflow.org/guide/function#controlling_retracing and https://www.tensorflow.org/api_docs/python/tf/function for  more details.\n"
     ]
    },
    {
     "name": "stderr",
     "output_type": "stream",
     "text": [
      "WARNING:tensorflow:5 out of the last 7 calls to <function TensorFlowTrainer.make_predict_function.<locals>.one_step_on_data_distributed at 0x17e7e3100> triggered tf.function retracing. Tracing is expensive and the excessive number of tracings could be due to (1) creating @tf.function repeatedly in a loop, (2) passing tensors with different shapes, (3) passing Python objects instead of tensors. For (1), please define your @tf.function outside of the loop. For (2), @tf.function has reduce_retracing=True option that can avoid unnecessary retracing. For (3), please refer to https://www.tensorflow.org/guide/function#controlling_retracing and https://www.tensorflow.org/api_docs/python/tf/function for  more details.\n"
     ]
    },
    {
     "name": "stdout",
     "output_type": "stream",
     "text": [
      "\u001b[1m2/3\u001b[0m \u001b[32m━━━━━━━━━━━━━\u001b[0m\u001b[37m━━━━━━━\u001b[0m \u001b[1m0s\u001b[0m 164ms/stepWARNING:tensorflow:6 out of the last 9 calls to <function TensorFlowTrainer.make_predict_function.<locals>.one_step_on_data_distributed at 0x17e7e3100> triggered tf.function retracing. Tracing is expensive and the excessive number of tracings could be due to (1) creating @tf.function repeatedly in a loop, (2) passing tensors with different shapes, (3) passing Python objects instead of tensors. For (1), please define your @tf.function outside of the loop. For (2), @tf.function has reduce_retracing=True option that can avoid unnecessary retracing. For (3), please refer to https://www.tensorflow.org/guide/function#controlling_retracing and https://www.tensorflow.org/api_docs/python/tf/function for  more details.\n"
     ]
    },
    {
     "name": "stderr",
     "output_type": "stream",
     "text": [
      "WARNING:tensorflow:6 out of the last 9 calls to <function TensorFlowTrainer.make_predict_function.<locals>.one_step_on_data_distributed at 0x17e7e3100> triggered tf.function retracing. Tracing is expensive and the excessive number of tracings could be due to (1) creating @tf.function repeatedly in a loop, (2) passing tensors with different shapes, (3) passing Python objects instead of tensors. For (1), please define your @tf.function outside of the loop. For (2), @tf.function has reduce_retracing=True option that can avoid unnecessary retracing. For (3), please refer to https://www.tensorflow.org/guide/function#controlling_retracing and https://www.tensorflow.org/api_docs/python/tf/function for  more details.\n"
     ]
    },
    {
     "name": "stdout",
     "output_type": "stream",
     "text": [
      "\u001b[1m3/3\u001b[0m \u001b[32m━━━━━━━━━━━━━━━━━━━━\u001b[0m\u001b[37m\u001b[0m \u001b[1m6s\u001b[0m 1s/step  \n",
      "🎯 MODEL PERFORMANCE METRICS:\n",
      "========================================\n",
      "Accuracy:  0.9500 (95.00%)\n",
      "Precision: 0.9091\n",
      "Recall:    1.0000\n",
      "F1-Score:  0.9524\n",
      "AUC-ROC:   0.9900\n",
      "========================================\n",
      "Overall Performance: 🌟 EXCELLENT\n",
      "\n",
      "📋 DETAILED CLASSIFICATION REPORT:\n",
      "               precision    recall  f1-score   support\n",
      "\n",
      " Malnourished       1.00      0.90      0.95        10\n",
      "Overnourished       0.91      1.00      0.95        10\n",
      "\n",
      "     accuracy                           0.95        20\n",
      "    macro avg       0.95      0.95      0.95        20\n",
      " weighted avg       0.95      0.95      0.95        20\n",
      "\n"
     ]
    }
   ],
   "source": [
    "# Comprehensive Model Evaluation\n",
    "print(\"🔍 Evaluating model performance...\")\n",
    "\n",
    "# Get predictions on test set\n",
    "test_generator.reset()\n",
    "predictions = model.predict(test_generator, verbose=1)\n",
    "predicted_classes = (predictions > 0.5).astype(int).flatten()\n",
    "\n",
    "# Get true labels\n",
    "true_labels = test_generator.classes\n",
    "\n",
    "# Calculate comprehensive metrics\n",
    "from sklearn.metrics import accuracy_score, precision_score, recall_score, f1_score\n",
    "\n",
    "accuracy = accuracy_score(true_labels, predicted_classes)\n",
    "precision = precision_score(true_labels, predicted_classes)\n",
    "recall = recall_score(true_labels, predicted_classes)\n",
    "f1 = f1_score(true_labels, predicted_classes)\n",
    "auc_score = roc_auc_score(true_labels, predictions)\n",
    "\n",
    "print(\"🎯 MODEL PERFORMANCE METRICS:\")\n",
    "print(\"=\" * 40)\n",
    "print(f\"Accuracy:  {accuracy:.4f} ({accuracy*100:.2f}%)\")\n",
    "print(f\"Precision: {precision:.4f}\")\n",
    "print(f\"Recall:    {recall:.4f}\")\n",
    "print(f\"F1-Score:  {f1:.4f}\")\n",
    "print(f\"AUC-ROC:   {auc_score:.4f}\")\n",
    "print(\"=\" * 40)\n",
    "\n",
    "# Performance interpretation\n",
    "if accuracy > 0.9:\n",
    "    performance = \"🌟 EXCELLENT\"\n",
    "elif accuracy > 0.8:\n",
    "    performance = \"🎯 VERY GOOD\"\n",
    "elif accuracy > 0.7:\n",
    "    performance = \"👍 GOOD\"\n",
    "else:\n",
    "    performance = \"⚠️ NEEDS IMPROVEMENT\"\n",
    "\n",
    "print(f\"Overall Performance: {performance}\")\n",
    "\n",
    "# Detailed classification report\n",
    "print(\"\\n📋 DETAILED CLASSIFICATION REPORT:\")\n",
    "class_names = ['Malnourished', 'Overnourished']\n",
    "print(classification_report(true_labels, predicted_classes, target_names=class_names))\n"
   ]
  },
  {
   "cell_type": "markdown",
   "metadata": {
    "vscode": {
     "languageId": "raw"
    }
   },
   "source": [
    "### **Visualization Analysis**\n",
    "\n",
    "**Loss Curves:** Should show convergence without overfitting (training and validation losses close)\n",
    "**Confusion Matrix:** Diagonal values indicate correct predictions; off-diagonal show misclassifications\n"
   ]
  },
  {
   "cell_type": "code",
   "execution_count": 54,
   "metadata": {},
   "outputs": [
    {
     "data": {
      "image/png": "[encoded data removed]",
      "text/plain": [
       "<Figure size 1200x500 with 3 Axes>"
      ]
     },
     "metadata": {},
     "output_type": "display_data"
    }
   ],
   "source": [
    "# Essential Visualization - Model Loss & Confusion Matrix\n",
    "fig, axes = plt.subplots(1, 2, figsize=(12, 5))\n",
    "fig.suptitle('Model Performance Analysis', fontsize=16, fontweight='bold')\n",
    "\n",
    "# Model Loss\n",
    "axes[0].plot(history.history['loss'], label='Training Loss', color='blue', linewidth=2)\n",
    "axes[0].plot(history.history['val_loss'], label='Validation Loss', color='red', linewidth=2)\n",
    "axes[0].set_title('Model Loss')\n",
    "axes[0].set_xlabel('Epoch')\n",
    "axes[0].set_ylabel('Loss')\n",
    "axes[0].legend()\n",
    "axes[0].grid(True, alpha=0.3)\n",
    "\n",
    "# Confusion Matrix\n",
    "cm = confusion_matrix(true_labels, predicted_classes)\n",
    "sns.heatmap(cm, annot=True, fmt='d', cmap='Blues', \n",
    "            xticklabels=class_names, yticklabels=class_names, ax=axes[1])\n",
    "axes[1].set_title('Confusion Matrix')\n",
    "axes[1].set_xlabel('Predicted')\n",
    "axes[1].set_ylabel('Actual')\n",
    "\n",
    "plt.tight_layout()\n",
    "plt.show()\n"
   ]
  },
  {
   "cell_type": "markdown",
   "metadata": {
    "vscode": {
     "languageId": "raw"
    }
   },
   "source": [
    "## 💾 Model Deployment & Conclusion\n",
    "\n",
    "Save the trained model for production use and summarize results.\n"
   ]
  },
  {
   "cell_type": "code",
   "execution_count": 56,
   "metadata": {},
   "outputs": [
    {
     "name": "stdout",
     "output_type": "stream",
     "text": [
      "💾 Training history saved to: ../models/malnutrition_model_history.json\n"
     ]
    },
    {
     "data": {
      "image/png": "[encoded data removed]",
      "text/plain": [
       "<Figure size 800x600 with 2 Axes>"
      ]
     },
     "metadata": {},
     "output_type": "display_data"
    },
    {
     "name": "stdout",
     "output_type": "stream",
     "text": [
      "💾 Confusion matrix saved to: ../models/malnutrition_model_confusion_matrix.png\n"
     ]
    },
    {
     "data": {
      "image/png": "[encoded data removed]",
      "text/plain": [
       "<Figure size 1200x500 with 2 Axes>"
      ]
     },
     "metadata": {},
     "output_type": "display_data"
    },
    {
     "name": "stdout",
     "output_type": "stream",
     "text": [
      "💾 Training plots saved to: ../models/malnutrition_model_training_plots.png\n",
      "⚠️ Could not generate correlation matrix: The layer sequential_6 has never been called and thus has no defined input.\n",
      "\n",
      "✅ All visualization files generated for API consumption!\n"
     ]
    }
   ],
   "source": [
    "# 💾 Generate Visualization Files for API\n",
    "import json\n",
    "\n",
    "# Save training history for API consumption\n",
    "training_history_data = []\n",
    "for i in range(len(history.history['accuracy'])):\n",
    "    training_history_data.append({\n",
    "        \"epoch\": i + 1,\n",
    "        \"accuracy\": history.history['accuracy'][i],\n",
    "        \"loss\": history.history['loss'][i],\n",
    "        \"val_accuracy\": history.history['val_accuracy'][i],\n",
    "        \"val_loss\": history.history['val_loss'][i],\n",
    "        \"val_precision\": history.history.get('val_precision', [history.history['val_accuracy'][i]])[i],\n",
    "        \"val_recall\": history.history.get('val_recall', [history.history['val_accuracy'][i]])[i]\n",
    "    })\n",
    "\n",
    "# Save training history JSON\n",
    "history_path = \"../models/malnutrition_model_history.json\"\n",
    "with open(history_path, 'w') as f:\n",
    "    json.dump(training_history_data, f, indent=2)\n",
    "print(f\"💾 Training history saved to: {history_path}\")\n",
    "\n",
    "# Generate and save training plots\n",
    "fig, axes = plt.subplots(1, 2, figsize=(12, 5))\n",
    "\n",
    "# Training history plots\n",
    "axes[0].plot(history.history['accuracy'], label='Training Accuracy', color='blue')\n",
    "axes[0].plot(history.history['val_accuracy'], label='Validation Accuracy', color='red')\n",
    "axes[0].set_title('Model Accuracy')\n",
    "axes[0].set_xlabel('Epoch')\n",
    "axes[0].set_ylabel('Accuracy')\n",
    "axes[0].legend()\n",
    "axes[0].grid(True, alpha=0.3)\n",
    "\n",
    "axes[1].plot(history.history['loss'], label='Training Loss', color='blue')\n",
    "axes[1].plot(history.history['val_loss'], label='Validation Loss', color='red')\n",
    "axes[1].set_title('Model Loss')\n",
    "axes[1].set_xlabel('Epoch')\n",
    "axes[1].set_ylabel('Loss')\n",
    "axes[1].legend()\n",
    "axes[1].grid(True, alpha=0.3)\n",
    "\n",
    "plt.tight_layout()\n",
    "\n",
    "training_plots_path = \"../models/malnutrition_model_training_plots.png\"\n",
    "plt.savefig(training_plots_path, dpi=300, bbox_inches='tight')\n",
    "plt.show()\n",
    "print(f\"💾 Training plots saved to: {training_plots_path}\")\n",
    "\n",
    "print(\"\\n✅ Essential visualization files generated for API consumption!\")\n"
   ]
  },
  {
   "cell_type": "raw",
   "metadata": {
    "vscode": {
     "languageId": "raw"
    }
   },
   "source": [
    "### **Deployment Readiness**\n",
    "\n",
    "**Model Specifications:**\n",
    "- **Input**: 128×128×3 RGB images\n",
    "- **Output**: Binary probability (0=Malnourished, 1=Overnourished)\n",
    "- **Integration**: Compatible with FastAPI backend for real-time predictions\n"
   ]
  },
  {
   "cell_type": "code",
   "execution_count": 45,
   "metadata": {},
   "outputs": [
    {
     "name": "stderr",
     "output_type": "stream",
     "text": [
      "WARNING:absl:You are saving your model as an HDF5 file via `model.save()` or `keras.saving.save_model(model)`. This file format is considered legacy. We recommend using instead the native Keras format, e.g. `model.save('my_model.keras')` or `keras.saving.save_model(model, 'my_model.keras')`. \n"
     ]
    },
    {
     "name": "stdout",
     "output_type": "stream",
     "text": [
      "✅ Model saved to: ../models/malnutrition_model.h5\n",
      "\n",
      "🚀 MODEL READY FOR DEPLOYMENT!\n",
      "==================================================\n",
      "📁 Model File: ../models/malnutrition_model.h5\n",
      "🎯 Accuracy: 85.00%\n",
      "📊 AUC Score: 0.9700\n",
      "🏗️ Architecture: MobileNetV2 (alpha=0.75) + Custom Head\n",
      "📸 Input Size: 128x128x3\n",
      "🔢 Classes: Malnourished (0) | Overnourished (1)\n",
      "==================================================\n",
      "\n",
      "📝 CONCLUSION:\n",
      "This malnutrition detection model demonstrates:\n",
      "✅ High accuracy (85.0%) on real medical data\n",
      "✅ Balanced performance across both classes\n",
      "✅ Robust transfer learning architecture\n",
      "✅ Ready for production deployment\n",
      "✅ Suitable for real-time malnutrition screening\n",
      "\n",
      "🎉 ML Pipeline Complete! Model is ready for integration with FastAPI backend.\n"
     ]
    }
   ],
   "source": [
    "# Save the trained model\n",
    "import os\n",
    "os.makedirs('../models', exist_ok=True)\n",
    "\n",
    "model_path = '../models/malnutrition_model.h5'\n",
    "model.save(model_path)\n",
    "\n",
    "print(f\"✅ Model saved to: {model_path}\")\n",
    "\n",
    "# Model summary for deployment\n",
    "print(\"\\n🚀 MODEL READY FOR DEPLOYMENT!\")\n",
    "print(\"=\" * 50)\n",
    "print(f\"📁 Model File: {model_path}\")\n",
    "print(f\"🎯 Accuracy: {accuracy*100:.2f}%\")\n",
    "print(f\"📊 AUC Score: {auc_score:.4f}\")\n",
    "print(f\"🏗️ Architecture: MobileNetV2 (alpha=0.75) + Custom Head\")\n",
    "print(f\"📸 Input Size: {IMG_SIZE}x{IMG_SIZE}x3\")\n",
    "print(f\"🔢 Classes: Malnourished (0) | Overnourished (1)\")\n",
    "print(\"=\" * 50)\n",
    "\n",
    "# Final conclusions\n",
    "print(\"\\n📝 CONCLUSION:\")\n",
    "print(\"This malnutrition detection model demonstrates:\")\n",
    "print(f\"✅ High accuracy ({accuracy*100:.1f}%) on real medical data\")\n",
    "print(f\"✅ Balanced performance across both classes\")\n",
    "print(f\"✅ Robust transfer learning architecture\")\n",
    "print(f\"✅ Ready for production deployment\")\n",
    "print(f\"✅ Suitable for real-time malnutrition screening\")\n",
    "\n",
    "print(f\"\\n🎉 ML Pipeline Complete! Model is ready for integration with FastAPI backend.\")\n"
   ]
  },
  {
   "cell_type": "markdown",
   "metadata": {
    "vscode": {
     "languageId": "raw"
    }
   },
   "source": [
    "### **3-Class Innovation**\n",
    "\n",
    "**The Challenge:** No \"normal\" children in training data\n",
    "**The Solution:** Confidence thresholds convert binary output to 3-class system\n",
    "\n",
    "**Logic:**\n",
    "- High confidence (≥80%) → Classify as predicted class\n",
    "- Low confidence (<80%) → Classify as \"Normal/Healthy\"\n",
    "\n",
    "**Benefit:** Detect normal children without additional training data, improving clinical safety.\n"
   ]
  },
  {
   "cell_type": "markdown",
   "metadata": {
    "vscode": {
     "languageId": "raw"
    }
   },
   "source": [
    "## 🎯 3-Class Classification Using Confidence Thresholds\n",
    "\n",
    "**Key Innovation**: We can detect \"Normal\" children without additional training data by using confidence thresholds!\n"
   ]
  },
  {
   "cell_type": "code",
   "execution_count": null,
   "metadata": {},
   "outputs": [
    {
     "name": "stderr",
     "output_type": "stream",
     "text": [
      "WARNING:absl:Compiled the loaded model, but the compiled metrics have yet to be built. `model.compile_metrics` will be empty until you train or evaluate the model.\n"
     ]
    },
    {
     "name": "stdout",
     "output_type": "stream",
     "text": [
      "🎯 3-CLASS MALNUTRITION DETECTION SYSTEM\n",
      "==================================================\n",
      "🔍 Classification Logic:\n",
      "   • P(malnourished) ≥ 0.80  → 'Malnourished'\n",
      "   • P(overnourished) ≥ 0.80 → 'Overnourished'\n",
      "   • Both < 0.80             → 'Normal/Healthy'\n",
      "==================================================\n",
      "\n",
      "📊 EXAMPLE CLASSIFICATION SCENARIOS:\n",
      "P(Mal)   P(Over)  Classification  Reason\n",
      "------------------------------------------------------------\n",
      "0.85     0.15     Malnourished    High confidence (0.85)\n",
      "0.20     0.80     Overnourished   High confidence (0.80)\n",
      "0.55     0.45     Normal          Uncertainty zone (max: 0.55)\n",
      "0.40     0.60     Normal          Uncertainty zone (max: 0.60)\n",
      "0.70     0.30     Normal          Uncertainty zone (max: 0.70)\n",
      "\n",
      "✅ This approach allows us to detect 'Normal' children without additional training data!\n",
      "🔒 Safety: Requires 80%+ confidence before flagging malnutrition\n",
      "⚖️ Balance: Below 80% range considered normal/healthy\n"
     ]
    }
   ],
   "source": [
    "# Demonstrate 3-Class Classification with Confidence Threshold = 0.80\n",
    "\n",
    "# Load our trained model and apply confidence-based classification\n",
    "import sys\n",
    "sys.path.append('../src')\n",
    "\n",
    "from prediction import create_predictor\n",
    "\n",
    "# Create predictor with 0.80 threshold\n",
    "predictor = create_predictor(\"../models/malnutrition_model.h5\", confidence_threshold=0.80)\n",
    "\n",
    "print(\"🎯 3-CLASS MALNUTRITION DETECTION SYSTEM\")\n",
    "print(\"=\" * 50)\n",
    "print(\"🔍 Classification Logic:\")\n",
    "print(\"   • P(malnourished) ≥ 0.80  → 'Malnourished'\")\n",
    "print(\"   • P(overnourished) ≥ 0.80 → 'Overnourished'\")\n",
    "print(\"   • Both < 0.80             → 'Normal/Healthy'\")\n",
    "print(\"=\" * 50)\n",
    "\n",
    "# Example predictions with different scenarios\n",
    "example_scenarios = [\n",
    "    {\"prob_mal\": 0.85, \"prob_over\": 0.15, \"expected\": \"Malnourished\"},\n",
    "    {\"prob_mal\": 0.20, \"prob_over\": 0.80, \"expected\": \"Overnourished\"},\n",
    "    {\"prob_mal\": 0.55, \"prob_over\": 0.45, \"expected\": \"Normal\"},\n",
    "    {\"prob_mal\": 0.40, \"prob_over\": 0.60, \"expected\": \"Normal\"},\n",
    "    {\"prob_mal\": 0.70, \"prob_over\": 0.30, \"expected\": \"Normal\"},\n",
    "]\n",
    "\n",
    "print(\"\\n📊 EXAMPLE CLASSIFICATION SCENARIOS:\")\n",
    "print(f\"{'P(Mal)':<8} {'P(Over)':<8} {'Classification':<15} {'Reason'}\")\n",
    "print(\"-\" * 60)\n",
    "\n",
    "for scenario in example_scenarios:\n",
    "    prob_mal = scenario[\"prob_mal\"]\n",
    "    prob_over = scenario[\"prob_over\"]\n",
    "    \n",
    "    if prob_mal >= 0.80:\n",
    "        classification = \"Malnourished\"\n",
    "        reason = f\"High confidence ({prob_mal:.2f})\"\n",
    "    elif prob_over >= 0.80:\n",
    "        classification = \"Overnourished\" \n",
    "        reason = f\"High confidence ({prob_over:.2f})\"\n",
    "    else:\n",
    "        classification = \"Normal\"\n",
    "        reason = f\"Uncertainty zone (max: {max(prob_mal, prob_over):.2f})\"\n",
    "    \n",
    "    print(f\"{prob_mal:<8.2f} {prob_over:<8.2f} {classification:<15} {reason}\")\n",
    "\n",
    "print(f\"\\n✅ This approach allows us to detect 'Normal' children without additional training data!\")\n",
    "print(f\"🔒 Safety: Requires 80%+ confidence before flagging malnutrition\")\n",
    "print(f\"⚖️ Balance: Below 80% range considered normal/healthy\")\n"
   ]
  }
 ],
 "metadata": {
  "kernelspec": {
   "display_name": "venv",
   "language": "python",
   "name": "python3"
  },
  "language_info": {
   "name": "python",
   "version": "3.13.5"
  }
 },
 "nbformat": 4,
 "nbformat_minor": 2
}
