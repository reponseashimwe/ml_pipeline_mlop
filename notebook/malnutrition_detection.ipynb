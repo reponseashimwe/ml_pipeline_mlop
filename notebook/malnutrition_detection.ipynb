{
 "cells": [
  {
   "cell_type": "markdown",
   "metadata": {
    "vscode": {
     "languageId": "raw"
    }
   },
   "source": [
    "# 🏥 Malnutrition Detection ML Pipeline\n",
    "\n",
    "## **Objective**: End-to-End Machine Learning Pipeline for Image Classification\n",
    "\n",
    "This notebook demonstrates the complete ML process for detecting malnutrition in children using computer vision.\n",
    "\n",
    "### **Dataset Overview**\n",
    "- **Source**: Roboflow Universe - Malnutrition Detection Dataset\n",
    "- **Classes**: \n",
    "  - 📕 **Malnourished** (210 train, 10 test)\n",
    "  - 📘 **Overnourished** (207 train, 10 test) \n",
    "- **Total Images**: 437 (perfectly balanced binary classification)\n",
    "- **Task**: Binary Image Classification\n",
    "\n",
    "### **Pipeline Components**\n",
    "1. **Data Acquisition** ✅\n",
    "2. **Data Processing & Augmentation** \n",
    "3. **Model Creation** (MobileNetV2 Architecture)\n",
    "4. **Model Training & Evaluation**\n",
    "5. **Performance Metrics Analysis**\n",
    "6. **Model Testing**\n"
   ]
  },
  {
   "cell_type": "code",
   "execution_count": 23,
   "metadata": {},
   "outputs": [
    {
     "name": "stdout",
     "output_type": "stream",
     "text": [
      "🎯 Libraries imported successfully!\n",
      "TensorFlow: 2.20.0-rc0\n",
      "GPU Available: False\n"
     ]
    }
   ],
   "source": [
    "# 📦 Import Required Libraries\n",
    "import os\n",
    "import numpy as np\n",
    "import pandas as pd\n",
    "import matplotlib.pyplot as plt\n",
    "import seaborn as sns\n",
    "from pathlib import Path\n",
    "import warnings\n",
    "warnings.filterwarnings('ignore')\n",
    "\n",
    "# Deep Learning\n",
    "import tensorflow as tf\n",
    "from tensorflow import keras\n",
    "from tensorflow.keras import layers, models, optimizers, regularizers\n",
    "from tensorflow.keras.optimizers import Adam\n",
    "from tensorflow.keras.preprocessing.image import ImageDataGenerator\n",
    "from tensorflow.keras.applications import MobileNetV2\n",
    "from tensorflow.keras.callbacks import EarlyStopping, ReduceLROnPlateau, ModelCheckpoint\n",
    "\n",
    "# Metrics\n",
    "from sklearn.metrics import classification_report, confusion_matrix, roc_auc_score, roc_curve\n",
    "\n",
    "# Set seeds\n",
    "np.random.seed(42)\n",
    "tf.random.set_seed(42)\n",
    "\n",
    "print(\"🎯 Libraries imported successfully!\")\n",
    "print(f\"TensorFlow: {tf.__version__}\")\n",
    "print(f\"GPU Available: {len(tf.config.list_physical_devices('GPU')) > 0}\")\n"
   ]
  },
  {
   "cell_type": "markdown",
   "metadata": {
    "vscode": {
     "languageId": "raw"
    }
   },
   "source": [
    "## 📊 Data Exploration & Analysis\n",
    "\n",
    "Let's explore our malnutrition detection dataset and visualize the class distribution.\n"
   ]
  },
  {
   "cell_type": "code",
   "execution_count": 24,
   "metadata": {},
   "outputs": [
    {
     "name": "stdout",
     "output_type": "stream",
     "text": [
      "📋 Dataset Distribution:\n",
      "Class           Train    Test     Total   \n",
      "----------------------------------------\n",
      "malnourished    210      10       220     \n",
      "overnourished   210      10       220     \n",
      "----------------------------------------\n",
      "TOTAL           420      20       440     \n",
      "\n",
      "✅ Dataset is perfectly balanced!\n",
      "📊 Train/Test Split: 420/20 (95.5%/4.5%)\n"
     ]
    }
   ],
   "source": [
    "# Dataset Analysis\n",
    "data_dir = Path(\"../data\")\n",
    "train_dir = data_dir / \"train\" \n",
    "test_dir = data_dir / \"test\"\n",
    "\n",
    "# Count images per class\n",
    "classes = ['malnourished', 'overnourished']\n",
    "train_counts = {}\n",
    "test_counts = {}\n",
    "\n",
    "for class_name in classes:\n",
    "    train_path = train_dir / class_name\n",
    "    test_path = test_dir / class_name\n",
    "    \n",
    "    train_counts[class_name] = len(list(train_path.glob(\"*.jpg\")))\n",
    "    test_counts[class_name] = len(list(test_path.glob(\"*.jpg\")))\n",
    "\n",
    "print(\"📋 Dataset Distribution:\")\n",
    "print(f\"{'Class':<15} {'Train':<8} {'Test':<8} {'Total':<8}\")\n",
    "print(\"-\" * 40)\n",
    "\n",
    "total_train = sum(train_counts.values())\n",
    "total_test = sum(test_counts.values())\n",
    "\n",
    "for class_name in classes:\n",
    "    total_class = train_counts[class_name] + test_counts[class_name]\n",
    "    print(f\"{class_name:<15} {train_counts[class_name]:<8} {test_counts[class_name]:<8} {total_class:<8}\")\n",
    "\n",
    "print(\"-\" * 40)\n",
    "print(f\"{'TOTAL':<15} {total_train:<8} {total_test:<8} {total_train + total_test:<8}\")\n",
    "\n",
    "print(f\"\\n✅ Dataset is perfectly balanced!\")\n",
    "print(f\"📊 Train/Test Split: {total_train}/{total_test} ({total_train/(total_train+total_test)*100:.1f}%/{total_test/(total_train+total_test)*100:.1f}%)\")\n"
   ]
  },
  {
   "cell_type": "markdown",
   "metadata": {
    "vscode": {
     "languageId": "raw"
    }
   },
   "source": [
    "## 🏗️ Model Creation & Training Pipeline\n",
    "\n",
    "We'll create a CNN model using transfer learning with **MobileNetV2** for optimal malnutrition detection.\n"
   ]
  },
  {
   "cell_type": "markdown",
   "metadata": {
    "vscode": {
     "languageId": "raw"
    }
   },
   "source": [
    "### **Data Augmentation Strategy**\n",
    "\n",
    "**Why these specific parameters?**\n",
    "\n",
    "- **Image Size: 128x128** - Optimal balance between detail preservation and computational efficiency for MobileNetV2\n",
    "- **Batch Size: 8** - Small batch size suitable for limited dataset (420 images) to avoid overfitting\n",
    "- **Rotation Range: 15°** - Realistic head pose variations without extreme distortions\n",
    "- **Shift Ranges: 10%** - Accounts for slight positioning variations in medical photos\n",
    "- **Brightness: [0.8, 1.2]** - Compensates for different lighting conditions in clinical settings\n",
    "- **Validation Split: 20%** - Standard split ensuring sufficient validation data (84 images)"
   ]
  },
  {
   "cell_type": "code",
   "execution_count": 25,
   "metadata": {},
   "outputs": [
    {
     "name": "stdout",
     "output_type": "stream",
     "text": [
      "Found 336 images belonging to 2 classes.\n",
      "Found 84 images belonging to 2 classes.\n",
      "Found 20 images belonging to 2 classes.\n",
      "✅ Data generators created!\n",
      "Training samples: 336\n",
      "Validation samples: 84\n",
      "Test samples: 20\n",
      "Classes: {'malnourished': 0, 'overnourished': 1}\n"
     ]
    }
   ],
   "source": [
    "# Data Generators with Augmentation\n",
    "IMG_SIZE = 128\n",
    "BATCH_SIZE = 8\n",
    "\n",
    "# Training data with augmentation\n",
    "train_datagen = ImageDataGenerator(\n",
    "    rescale=1./255,\n",
    "    rotation_range=15,\n",
    "    width_shift_range=0.1,\n",
    "    height_shift_range=0.1,\n",
    "    shear_range=0.1,\n",
    "    zoom_range=0.1,\n",
    "    horizontal_flip=True,\n",
    "    brightness_range=[0.8, 1.2],\n",
    "    channel_shift_range=0.1,\n",
    "    fill_mode='nearest',\n",
    "    validation_split=0.2\n",
    ")\n",
    "\n",
    "# Test data (no augmentation)\n",
    "test_datagen = ImageDataGenerator(rescale=1./255)\n",
    "\n",
    "# Create generators\n",
    "train_generator = train_datagen.flow_from_directory(\n",
    "    train_dir,\n",
    "    target_size=(IMG_SIZE, IMG_SIZE),\n",
    "    batch_size=BATCH_SIZE,\n",
    "    class_mode='binary',\n",
    "    subset='training',\n",
    "    seed=42\n",
    ")\n",
    "\n",
    "validation_generator = train_datagen.flow_from_directory(\n",
    "    train_dir,\n",
    "    target_size=(IMG_SIZE, IMG_SIZE),\n",
    "    batch_size=BATCH_SIZE,\n",
    "    class_mode='binary',\n",
    "    subset='validation',\n",
    "    seed=42\n",
    ")\n",
    "\n",
    "test_generator = test_datagen.flow_from_directory(\n",
    "    test_dir,\n",
    "    target_size=(IMG_SIZE, IMG_SIZE),\n",
    "    batch_size=BATCH_SIZE,\n",
    "    class_mode='binary',\n",
    "    shuffle=False\n",
    ")\n",
    "\n",
    "print(\"✅ Data generators created!\")\n",
    "print(f\"Training samples: {train_generator.samples}\")\n",
    "print(f\"Validation samples: {validation_generator.samples}\")\n",
    "print(f\"Test samples: {test_generator.samples}\")\n",
    "print(f\"Classes: {train_generator.class_indices}\")\n"
   ]
  },
  {
   "cell_type": "markdown",
   "metadata": {
    "vscode": {
     "languageId": "raw"
    }
   },
   "source": [
    "### **Model Architecture Design Choices**\n",
    "\n",
    "**Why MobileNetV2 with Fine-tuning?**\n",
    "\n",
    "1. **Transfer Learning Foundation**: Pre-trained on ImageNet provides robust feature extraction\n",
    "2. **Efficiency**: MobileNetV2 (alpha=0.75) balances performance with computational efficiency\n",
    "3. **Fine-tuning Strategy**: Unfreezing last 20 layers allows adaptation to medical images\n",
    "4. **Enhanced Classification Head**: Multi-layer architecture with BatchNormalization for better learning\n",
    "\n",
    "**Architecture Rationale**:\n",
    "- **Global Average Pooling**: Reduces overfitting compared to Flatten\n",
    "- **BatchNormalization**: Stabilizes training and improves convergence\n",
    "- **Progressive Dense Layers**: 64→32→1 allows hierarchical feature learning\n",
    "- **Dropout Strategy**: Balanced dropout (0.3, 0.4, 0.3) prevents overfitting\n",
    "- **L2 Regularization**: 0.001 provides regularization without over-constraining"
   ]
  },
  {
   "cell_type": "code",
   "execution_count": 26,
   "metadata": {},
   "outputs": [
    {
     "name": "stdout",
     "output_type": "stream",
     "text": [
      "🏗️ Enhanced model created successfully!\n",
      "Total parameters: 1,471,537\n",
      "Trainable parameters: 847,985\n",
      "🔧 Fine-tuning enabled: Last 20 layers of MobileNetV2 + custom head\n",
      "✨ Optimization: Enhanced head + BatchNorm + Fine-tuning for 95%+ accuracy\n"
     ]
    },
    {
     "data": {
      "text/html": [
       "<pre style=\"white-space:pre;overflow-x:auto;line-height:normal;font-family:Menlo,'DejaVu Sans Mono',consolas,'Courier New',monospace\"><span style=\"font-weight: bold\">Model: \"sequential_2\"</span>\n",
       "</pre>\n"
      ],
      "text/plain": [
       "\u001b[1mModel: \"sequential_2\"\u001b[0m\n"
      ]
     },
     "metadata": {},
     "output_type": "display_data"
    },
    {
     "data": {
      "text/html": [
       "<pre style=\"white-space:pre;overflow-x:auto;line-height:normal;font-family:Menlo,'DejaVu Sans Mono',consolas,'Courier New',monospace\">┏━━━━━━━━━━━━━━━━━━━━━━━━━━━━━━━━━┳━━━━━━━━━━━━━━━━━━━━━━━━┳━━━━━━━━━━━━━━━┓\n",
       "┃<span style=\"font-weight: bold\"> Layer (type)                    </span>┃<span style=\"font-weight: bold\"> Output Shape           </span>┃<span style=\"font-weight: bold\">       Param # </span>┃\n",
       "┡━━━━━━━━━━━━━━━━━━━━━━━━━━━━━━━━━╇━━━━━━━━━━━━━━━━━━━━━━━━╇━━━━━━━━━━━━━━━┩\n",
       "│ mobilenetv2_0.75_128            │ (<span style=\"color: #00d7ff; text-decoration-color: #00d7ff\">None</span>, <span style=\"color: #00af00; text-decoration-color: #00af00\">4</span>, <span style=\"color: #00af00; text-decoration-color: #00af00\">4</span>, <span style=\"color: #00af00; text-decoration-color: #00af00\">1280</span>)     │     <span style=\"color: #00af00; text-decoration-color: #00af00\">1,382,064</span> │\n",
       "│ (<span style=\"color: #0087ff; text-decoration-color: #0087ff\">Functional</span>)                    │                        │               │\n",
       "├─────────────────────────────────┼────────────────────────┼───────────────┤\n",
       "│ global_average_pooling2d_2      │ (<span style=\"color: #00d7ff; text-decoration-color: #00d7ff\">None</span>, <span style=\"color: #00af00; text-decoration-color: #00af00\">1280</span>)           │             <span style=\"color: #00af00; text-decoration-color: #00af00\">0</span> │\n",
       "│ (<span style=\"color: #0087ff; text-decoration-color: #0087ff\">GlobalAveragePooling2D</span>)        │                        │               │\n",
       "├─────────────────────────────────┼────────────────────────┼───────────────┤\n",
       "│ batch_normalization_4           │ (<span style=\"color: #00d7ff; text-decoration-color: #00d7ff\">None</span>, <span style=\"color: #00af00; text-decoration-color: #00af00\">1280</span>)           │         <span style=\"color: #00af00; text-decoration-color: #00af00\">5,120</span> │\n",
       "│ (<span style=\"color: #0087ff; text-decoration-color: #0087ff\">BatchNormalization</span>)            │                        │               │\n",
       "├─────────────────────────────────┼────────────────────────┼───────────────┤\n",
       "│ dropout_6 (<span style=\"color: #0087ff; text-decoration-color: #0087ff\">Dropout</span>)             │ (<span style=\"color: #00d7ff; text-decoration-color: #00d7ff\">None</span>, <span style=\"color: #00af00; text-decoration-color: #00af00\">1280</span>)           │             <span style=\"color: #00af00; text-decoration-color: #00af00\">0</span> │\n",
       "├─────────────────────────────────┼────────────────────────┼───────────────┤\n",
       "│ dense_6 (<span style=\"color: #0087ff; text-decoration-color: #0087ff\">Dense</span>)                 │ (<span style=\"color: #00d7ff; text-decoration-color: #00d7ff\">None</span>, <span style=\"color: #00af00; text-decoration-color: #00af00\">64</span>)             │        <span style=\"color: #00af00; text-decoration-color: #00af00\">81,984</span> │\n",
       "├─────────────────────────────────┼────────────────────────┼───────────────┤\n",
       "│ batch_normalization_5           │ (<span style=\"color: #00d7ff; text-decoration-color: #00d7ff\">None</span>, <span style=\"color: #00af00; text-decoration-color: #00af00\">64</span>)             │           <span style=\"color: #00af00; text-decoration-color: #00af00\">256</span> │\n",
       "│ (<span style=\"color: #0087ff; text-decoration-color: #0087ff\">BatchNormalization</span>)            │                        │               │\n",
       "├─────────────────────────────────┼────────────────────────┼───────────────┤\n",
       "│ dropout_7 (<span style=\"color: #0087ff; text-decoration-color: #0087ff\">Dropout</span>)             │ (<span style=\"color: #00d7ff; text-decoration-color: #00d7ff\">None</span>, <span style=\"color: #00af00; text-decoration-color: #00af00\">64</span>)             │             <span style=\"color: #00af00; text-decoration-color: #00af00\">0</span> │\n",
       "├─────────────────────────────────┼────────────────────────┼───────────────┤\n",
       "│ dense_7 (<span style=\"color: #0087ff; text-decoration-color: #0087ff\">Dense</span>)                 │ (<span style=\"color: #00d7ff; text-decoration-color: #00d7ff\">None</span>, <span style=\"color: #00af00; text-decoration-color: #00af00\">32</span>)             │         <span style=\"color: #00af00; text-decoration-color: #00af00\">2,080</span> │\n",
       "├─────────────────────────────────┼────────────────────────┼───────────────┤\n",
       "│ dropout_8 (<span style=\"color: #0087ff; text-decoration-color: #0087ff\">Dropout</span>)             │ (<span style=\"color: #00d7ff; text-decoration-color: #00d7ff\">None</span>, <span style=\"color: #00af00; text-decoration-color: #00af00\">32</span>)             │             <span style=\"color: #00af00; text-decoration-color: #00af00\">0</span> │\n",
       "├─────────────────────────────────┼────────────────────────┼───────────────┤\n",
       "│ dense_8 (<span style=\"color: #0087ff; text-decoration-color: #0087ff\">Dense</span>)                 │ (<span style=\"color: #00d7ff; text-decoration-color: #00d7ff\">None</span>, <span style=\"color: #00af00; text-decoration-color: #00af00\">1</span>)              │            <span style=\"color: #00af00; text-decoration-color: #00af00\">33</span> │\n",
       "└─────────────────────────────────┴────────────────────────┴───────────────┘\n",
       "</pre>\n"
      ],
      "text/plain": [
       "┏━━━━━━━━━━━━━━━━━━━━━━━━━━━━━━━━━┳━━━━━━━━━━━━━━━━━━━━━━━━┳━━━━━━━━━━━━━━━┓\n",
       "┃\u001b[1m \u001b[0m\u001b[1mLayer (type)                   \u001b[0m\u001b[1m \u001b[0m┃\u001b[1m \u001b[0m\u001b[1mOutput Shape          \u001b[0m\u001b[1m \u001b[0m┃\u001b[1m \u001b[0m\u001b[1m      Param #\u001b[0m\u001b[1m \u001b[0m┃\n",
       "┡━━━━━━━━━━━━━━━━━━━━━━━━━━━━━━━━━╇━━━━━━━━━━━━━━━━━━━━━━━━╇━━━━━━━━━━━━━━━┩\n",
       "│ mobilenetv2_0.75_128            │ (\u001b[38;5;45mNone\u001b[0m, \u001b[38;5;34m4\u001b[0m, \u001b[38;5;34m4\u001b[0m, \u001b[38;5;34m1280\u001b[0m)     │     \u001b[38;5;34m1,382,064\u001b[0m │\n",
       "│ (\u001b[38;5;33mFunctional\u001b[0m)                    │                        │               │\n",
       "├─────────────────────────────────┼────────────────────────┼───────────────┤\n",
       "│ global_average_pooling2d_2      │ (\u001b[38;5;45mNone\u001b[0m, \u001b[38;5;34m1280\u001b[0m)           │             \u001b[38;5;34m0\u001b[0m │\n",
       "│ (\u001b[38;5;33mGlobalAveragePooling2D\u001b[0m)        │                        │               │\n",
       "├─────────────────────────────────┼────────────────────────┼───────────────┤\n",
       "│ batch_normalization_4           │ (\u001b[38;5;45mNone\u001b[0m, \u001b[38;5;34m1280\u001b[0m)           │         \u001b[38;5;34m5,120\u001b[0m │\n",
       "│ (\u001b[38;5;33mBatchNormalization\u001b[0m)            │                        │               │\n",
       "├─────────────────────────────────┼────────────────────────┼───────────────┤\n",
       "│ dropout_6 (\u001b[38;5;33mDropout\u001b[0m)             │ (\u001b[38;5;45mNone\u001b[0m, \u001b[38;5;34m1280\u001b[0m)           │             \u001b[38;5;34m0\u001b[0m │\n",
       "├─────────────────────────────────┼────────────────────────┼───────────────┤\n",
       "│ dense_6 (\u001b[38;5;33mDense\u001b[0m)                 │ (\u001b[38;5;45mNone\u001b[0m, \u001b[38;5;34m64\u001b[0m)             │        \u001b[38;5;34m81,984\u001b[0m │\n",
       "├─────────────────────────────────┼────────────────────────┼───────────────┤\n",
       "│ batch_normalization_5           │ (\u001b[38;5;45mNone\u001b[0m, \u001b[38;5;34m64\u001b[0m)             │           \u001b[38;5;34m256\u001b[0m │\n",
       "│ (\u001b[38;5;33mBatchNormalization\u001b[0m)            │                        │               │\n",
       "├─────────────────────────────────┼────────────────────────┼───────────────┤\n",
       "│ dropout_7 (\u001b[38;5;33mDropout\u001b[0m)             │ (\u001b[38;5;45mNone\u001b[0m, \u001b[38;5;34m64\u001b[0m)             │             \u001b[38;5;34m0\u001b[0m │\n",
       "├─────────────────────────────────┼────────────────────────┼───────────────┤\n",
       "│ dense_7 (\u001b[38;5;33mDense\u001b[0m)                 │ (\u001b[38;5;45mNone\u001b[0m, \u001b[38;5;34m32\u001b[0m)             │         \u001b[38;5;34m2,080\u001b[0m │\n",
       "├─────────────────────────────────┼────────────────────────┼───────────────┤\n",
       "│ dropout_8 (\u001b[38;5;33mDropout\u001b[0m)             │ (\u001b[38;5;45mNone\u001b[0m, \u001b[38;5;34m32\u001b[0m)             │             \u001b[38;5;34m0\u001b[0m │\n",
       "├─────────────────────────────────┼────────────────────────┼───────────────┤\n",
       "│ dense_8 (\u001b[38;5;33mDense\u001b[0m)                 │ (\u001b[38;5;45mNone\u001b[0m, \u001b[38;5;34m1\u001b[0m)              │            \u001b[38;5;34m33\u001b[0m │\n",
       "└─────────────────────────────────┴────────────────────────┴───────────────┘\n"
      ]
     },
     "metadata": {},
     "output_type": "display_data"
    },
    {
     "data": {
      "text/html": [
       "<pre style=\"white-space:pre;overflow-x:auto;line-height:normal;font-family:Menlo,'DejaVu Sans Mono',consolas,'Courier New',monospace\"><span style=\"font-weight: bold\"> Total params: </span><span style=\"color: #00af00; text-decoration-color: #00af00\">1,471,537</span> (5.61 MB)\n",
       "</pre>\n"
      ],
      "text/plain": [
       "\u001b[1m Total params: \u001b[0m\u001b[38;5;34m1,471,537\u001b[0m (5.61 MB)\n"
      ]
     },
     "metadata": {},
     "output_type": "display_data"
    },
    {
     "data": {
      "text/html": [
       "<pre style=\"white-space:pre;overflow-x:auto;line-height:normal;font-family:Menlo,'DejaVu Sans Mono',consolas,'Courier New',monospace\"><span style=\"font-weight: bold\"> Trainable params: </span><span style=\"color: #00af00; text-decoration-color: #00af00\">847,985</span> (3.23 MB)\n",
       "</pre>\n"
      ],
      "text/plain": [
       "\u001b[1m Trainable params: \u001b[0m\u001b[38;5;34m847,985\u001b[0m (3.23 MB)\n"
      ]
     },
     "metadata": {},
     "output_type": "display_data"
    },
    {
     "data": {
      "text/html": [
       "<pre style=\"white-space:pre;overflow-x:auto;line-height:normal;font-family:Menlo,'DejaVu Sans Mono',consolas,'Courier New',monospace\"><span style=\"font-weight: bold\"> Non-trainable params: </span><span style=\"color: #00af00; text-decoration-color: #00af00\">623,552</span> (2.38 MB)\n",
       "</pre>\n"
      ],
      "text/plain": [
       "\u001b[1m Non-trainable params: \u001b[0m\u001b[38;5;34m623,552\u001b[0m (2.38 MB)\n"
      ]
     },
     "metadata": {},
     "output_type": "display_data"
    }
   ],
   "source": [
    "# Model Architecture - Optimized MobileNetV2 Transfer Learning\n",
    "def create_optimized_model(input_shape=(128, 128, 3)):\n",
    "    \"\"\"\n",
    "    Create MobileNetV2-based model optimized for small datasets.\n",
    "    Enhanced for better performance.\n",
    "    \"\"\"\n",
    "    base_model = MobileNetV2(\n",
    "        input_shape=input_shape,\n",
    "        include_top=False,\n",
    "        weights='imagenet',\n",
    "        alpha=0.75\n",
    "    )\n",
    "    \n",
    "    # Fine-tune the last few layers of base model for better performance\n",
    "    base_model.trainable = True\n",
    "    for layer in base_model.layers[:-20]:  # Freeze all but last 20 layers\n",
    "        layer.trainable = False\n",
    "    \n",
    "    model = models.Sequential([\n",
    "        base_model,\n",
    "        layers.GlobalAveragePooling2D(),\n",
    "        layers.BatchNormalization(),\n",
    "        layers.Dropout(0.3),\n",
    "        layers.Dense(64, activation='relu', kernel_regularizer=regularizers.l2(0.001)),\n",
    "        layers.BatchNormalization(),\n",
    "        layers.Dropout(0.4),\n",
    "        layers.Dense(32, activation='relu', kernel_regularizer=regularizers.l2(0.001)),\n",
    "        layers.Dropout(0.3),\n",
    "        layers.Dense(1, activation='sigmoid')\n",
    "    ])\n",
    "    \n",
    "    model.compile(\n",
    "        optimizer=optimizers.Adam(learning_rate=0.0001),\n",
    "        loss='binary_crossentropy',\n",
    "        metrics=['accuracy', 'precision', 'recall']\n",
    "    )\n",
    "    \n",
    "    return model\n",
    "\n",
    "# Create and compile model\n",
    "model = create_optimized_model()\n",
    "\n",
    "print(\"🏗️ Enhanced model created successfully!\")\n",
    "print(f\"Total parameters: {model.count_params():,}\")\n",
    "trainable_params = sum([np.prod(layer.trainable_weights[i].shape) for layer in model.layers for i in range(len(layer.trainable_weights))])\n",
    "print(f\"Trainable parameters: {trainable_params:,}\")\n",
    "print(f\"🔧 Fine-tuning enabled: Last 20 layers of MobileNetV2 + custom head\")\n",
    "print(\"✨ Optimization: Enhanced head + BatchNorm + Fine-tuning for 95%+ accuracy\")\n",
    "\n",
    "# Model summary\n",
    "model.summary()\n"
   ]
  },
  {
   "cell_type": "markdown",
   "metadata": {
    "vscode": {
     "languageId": "raw"
    }
   },
   "source": [
    "### **Training Strategy**\n",
    "\n",
    "**Key Parameters:**\n",
    "- **Epochs**: 30 (allows fine-tuning convergence)\n",
    "- **Early Stopping**: Monitor validation accuracy, patience=12\n",
    "- **Learning Rate Reduction**: Factor=0.2, patience=6 (aggressive optimization)"
   ]
  },
  {
   "cell_type": "code",
   "execution_count": 27,
   "metadata": {},
   "outputs": [
    {
     "name": "stdout",
     "output_type": "stream",
     "text": [
      "🚀 Starting enhanced MobileNet training with fine-tuning...\n",
      "Training for up to 30 epochs with early stopping\n",
      "📊 Enhanced architecture with fine-tuning for 95%+ accuracy!\n",
      "🔧 Strategy: Fine-tune last 20 layers + enhanced head architecture\n",
      "Epoch 1/30\n",
      "\u001b[1m41/42\u001b[0m \u001b[32m━━━━━━━━━━━━━━━━━━━\u001b[0m\u001b[37m━\u001b[0m \u001b[1m0s\u001b[0m 22ms/step - accuracy: 0.4835 - loss: 1.0509 - precision: 0.4656 - recall: 0.2486\n",
      "Epoch 1: val_accuracy improved from None to 0.51190, saving model to ../models/malnutrition_model.h5\n"
     ]
    },
    {
     "name": "stderr",
     "output_type": "stream",
     "text": [
      "WARNING:absl:You are saving your model as an HDF5 file via `model.save()` or `keras.saving.save_model(model)`. This file format is considered legacy. We recommend using instead the native Keras format, e.g. `model.save('my_model.keras')` or `keras.saving.save_model(model, 'my_model.keras')`. \n"
     ]
    },
    {
     "name": "stdout",
     "output_type": "stream",
     "text": [
      "\u001b[1m42/42\u001b[0m \u001b[32m━━━━━━━━━━━━━━━━━━━━\u001b[0m\u001b[37m\u001b[0m \u001b[1m7s\u001b[0m 51ms/step - accuracy: 0.5685 - loss: 0.9491 - precision: 0.6211 - recall: 0.3512 - val_accuracy: 0.5119 - val_loss: 0.8875 - val_precision: 0.5079 - val_recall: 0.7619 - learning_rate: 1.0000e-04\n",
      "Epoch 2/30\n",
      "\u001b[1m42/42\u001b[0m \u001b[32m━━━━━━━━━━━━━━━━━━━━\u001b[0m\u001b[37m\u001b[0m \u001b[1m0s\u001b[0m 23ms/step - accuracy: 0.6517 - loss: 0.8046 - precision: 0.7815 - recall: 0.4426\n",
      "Epoch 2: val_accuracy improved from 0.51190 to 0.64286, saving model to ../models/malnutrition_model.h5\n"
     ]
    },
    {
     "name": "stderr",
     "output_type": "stream",
     "text": [
      "WARNING:absl:You are saving your model as an HDF5 file via `model.save()` or `keras.saving.save_model(model)`. This file format is considered legacy. We recommend using instead the native Keras format, e.g. `model.save('my_model.keras')` or `keras.saving.save_model(model, 'my_model.keras')`. \n"
     ]
    },
    {
     "name": "stdout",
     "output_type": "stream",
     "text": [
      "\u001b[1m42/42\u001b[0m \u001b[32m━━━━━━━━━━━━━━━━━━━━\u001b[0m\u001b[37m\u001b[0m \u001b[1m1s\u001b[0m 31ms/step - accuracy: 0.6905 - loss: 0.7654 - precision: 0.8200 - recall: 0.4881 - val_accuracy: 0.6429 - val_loss: 0.7973 - val_precision: 0.5833 - val_recall: 1.0000 - learning_rate: 1.0000e-04\n",
      "Epoch 3/30\n",
      "\u001b[1m40/42\u001b[0m \u001b[32m━━━━━━━━━━━━━━━━━━━\u001b[0m\u001b[37m━\u001b[0m \u001b[1m0s\u001b[0m 24ms/step - accuracy: 0.7198 - loss: 0.7591 - precision: 0.8504 - recall: 0.5625\n",
      "Epoch 3: val_accuracy improved from 0.64286 to 0.71429, saving model to ../models/malnutrition_model.h5\n"
     ]
    },
    {
     "name": "stderr",
     "output_type": "stream",
     "text": [
      "WARNING:absl:You are saving your model as an HDF5 file via `model.save()` or `keras.saving.save_model(model)`. This file format is considered legacy. We recommend using instead the native Keras format, e.g. `model.save('my_model.keras')` or `keras.saving.save_model(model, 'my_model.keras')`. \n"
     ]
    },
    {
     "name": "stdout",
     "output_type": "stream",
     "text": [
      "\u001b[1m42/42\u001b[0m \u001b[32m━━━━━━━━━━━━━━━━━━━━\u001b[0m\u001b[37m\u001b[0m \u001b[1m1s\u001b[0m 31ms/step - accuracy: 0.7321 - loss: 0.7220 - precision: 0.8197 - recall: 0.5952 - val_accuracy: 0.7143 - val_loss: 0.7146 - val_precision: 0.6406 - val_recall: 0.9762 - learning_rate: 1.0000e-04\n",
      "Epoch 4/30\n",
      "\u001b[1m41/42\u001b[0m \u001b[32m━━━━━━━━━━━━━━━━━━━\u001b[0m\u001b[37m━\u001b[0m \u001b[1m0s\u001b[0m 25ms/step - accuracy: 0.7797 - loss: 0.5765 - precision: 0.8384 - recall: 0.6744\n",
      "Epoch 4: val_accuracy did not improve from 0.71429\n",
      "\u001b[1m42/42\u001b[0m \u001b[32m━━━━━━━━━━━━━━━━━━━━\u001b[0m\u001b[37m\u001b[0m \u001b[1m1s\u001b[0m 30ms/step - accuracy: 0.7857 - loss: 0.5982 - precision: 0.8478 - recall: 0.6964 - val_accuracy: 0.6905 - val_loss: 0.7255 - val_precision: 0.6212 - val_recall: 0.9762 - learning_rate: 1.0000e-04\n",
      "Epoch 5/30\n",
      "\u001b[1m42/42\u001b[0m \u001b[32m━━━━━━━━━━━━━━━━━━━━\u001b[0m\u001b[37m\u001b[0m \u001b[1m0s\u001b[0m 24ms/step - accuracy: 0.8537 - loss: 0.5017 - precision: 0.9474 - recall: 0.7636\n",
      "Epoch 5: val_accuracy improved from 0.71429 to 0.72619, saving model to ../models/malnutrition_model.h5\n"
     ]
    },
    {
     "name": "stderr",
     "output_type": "stream",
     "text": [
      "WARNING:absl:You are saving your model as an HDF5 file via `model.save()` or `keras.saving.save_model(model)`. This file format is considered legacy. We recommend using instead the native Keras format, e.g. `model.save('my_model.keras')` or `keras.saving.save_model(model, 'my_model.keras')`. \n"
     ]
    },
    {
     "name": "stdout",
     "output_type": "stream",
     "text": [
      "\u001b[1m42/42\u001b[0m \u001b[32m━━━━━━━━━━━━━━━━━━━━\u001b[0m\u001b[37m\u001b[0m \u001b[1m1s\u001b[0m 32ms/step - accuracy: 0.8452 - loss: 0.5043 - precision: 0.9085 - recall: 0.7679 - val_accuracy: 0.7262 - val_loss: 0.6310 - val_precision: 0.6508 - val_recall: 0.9762 - learning_rate: 1.0000e-04\n",
      "Epoch 6/30\n",
      "\u001b[1m40/42\u001b[0m \u001b[32m━━━━━━━━━━━━━━━━━━━\u001b[0m\u001b[37m━\u001b[0m \u001b[1m0s\u001b[0m 26ms/step - accuracy: 0.9114 - loss: 0.4993 - precision: 0.9783 - recall: 0.8404\n",
      "Epoch 6: val_accuracy improved from 0.72619 to 0.76190, saving model to ../models/malnutrition_model.h5\n"
     ]
    },
    {
     "name": "stderr",
     "output_type": "stream",
     "text": [
      "WARNING:absl:You are saving your model as an HDF5 file via `model.save()` or `keras.saving.save_model(model)`. This file format is considered legacy. We recommend using instead the native Keras format, e.g. `model.save('my_model.keras')` or `keras.saving.save_model(model, 'my_model.keras')`. \n"
     ]
    },
    {
     "name": "stdout",
     "output_type": "stream",
     "text": [
      "\u001b[1m42/42\u001b[0m \u001b[32m━━━━━━━━━━━━━━━━━━━━\u001b[0m\u001b[37m\u001b[0m \u001b[1m1s\u001b[0m 33ms/step - accuracy: 0.8839 - loss: 0.4896 - precision: 0.9708 - recall: 0.7917 - val_accuracy: 0.7619 - val_loss: 0.5719 - val_precision: 0.6897 - val_recall: 0.9524 - learning_rate: 1.0000e-04\n",
      "Epoch 7/30\n",
      "\u001b[1m41/42\u001b[0m \u001b[32m━━━━━━━━━━━━━━━━━━━\u001b[0m\u001b[37m━\u001b[0m \u001b[1m0s\u001b[0m 24ms/step - accuracy: 0.8943 - loss: 0.3985 - precision: 0.9400 - recall: 0.8592\n",
      "Epoch 7: val_accuracy improved from 0.76190 to 0.83333, saving model to ../models/malnutrition_model.h5\n"
     ]
    },
    {
     "name": "stderr",
     "output_type": "stream",
     "text": [
      "WARNING:absl:You are saving your model as an HDF5 file via `model.save()` or `keras.saving.save_model(model)`. This file format is considered legacy. We recommend using instead the native Keras format, e.g. `model.save('my_model.keras')` or `keras.saving.save_model(model, 'my_model.keras')`. \n"
     ]
    },
    {
     "name": "stdout",
     "output_type": "stream",
     "text": [
      "\u001b[1m42/42\u001b[0m \u001b[32m━━━━━━━━━━━━━━━━━━━━\u001b[0m\u001b[37m\u001b[0m \u001b[1m1s\u001b[0m 31ms/step - accuracy: 0.8780 - loss: 0.4483 - precision: 0.8944 - recall: 0.8571 - val_accuracy: 0.8333 - val_loss: 0.5262 - val_precision: 0.7500 - val_recall: 1.0000 - learning_rate: 1.0000e-04\n",
      "Epoch 8/30\n",
      "\u001b[1m42/42\u001b[0m \u001b[32m━━━━━━━━━━━━━━━━━━━━\u001b[0m\u001b[37m\u001b[0m \u001b[1m0s\u001b[0m 26ms/step - accuracy: 0.8580 - loss: 0.4926 - precision: 0.8336 - recall: 0.8500\n",
      "Epoch 8: val_accuracy improved from 0.83333 to 0.90476, saving model to ../models/malnutrition_model.h5\n"
     ]
    },
    {
     "name": "stderr",
     "output_type": "stream",
     "text": [
      "WARNING:absl:You are saving your model as an HDF5 file via `model.save()` or `keras.saving.save_model(model)`. This file format is considered legacy. We recommend using instead the native Keras format, e.g. `model.save('my_model.keras')` or `keras.saving.save_model(model, 'my_model.keras')`. \n"
     ]
    },
    {
     "name": "stdout",
     "output_type": "stream",
     "text": [
      "\u001b[1m42/42\u001b[0m \u001b[32m━━━━━━━━━━━━━━━━━━━━\u001b[0m\u001b[37m\u001b[0m \u001b[1m1s\u001b[0m 34ms/step - accuracy: 0.8869 - loss: 0.4358 - precision: 0.9062 - recall: 0.8631 - val_accuracy: 0.9048 - val_loss: 0.4081 - val_precision: 0.8696 - val_recall: 0.9524 - learning_rate: 1.0000e-04\n",
      "Epoch 9/30\n",
      "\u001b[1m40/42\u001b[0m \u001b[32m━━━━━━━━━━━━━━━━━━━\u001b[0m\u001b[37m━\u001b[0m \u001b[1m0s\u001b[0m 24ms/step - accuracy: 0.9310 - loss: 0.3691 - precision: 0.9795 - recall: 0.8836\n",
      "Epoch 9: val_accuracy improved from 0.90476 to 0.94048, saving model to ../models/malnutrition_model.h5\n"
     ]
    },
    {
     "name": "stderr",
     "output_type": "stream",
     "text": [
      "WARNING:absl:You are saving your model as an HDF5 file via `model.save()` or `keras.saving.save_model(model)`. This file format is considered legacy. We recommend using instead the native Keras format, e.g. `model.save('my_model.keras')` or `keras.saving.save_model(model, 'my_model.keras')`. \n"
     ]
    },
    {
     "name": "stdout",
     "output_type": "stream",
     "text": [
      "\u001b[1m42/42\u001b[0m \u001b[32m━━━━━━━━━━━━━━━━━━━━\u001b[0m\u001b[37m\u001b[0m \u001b[1m1s\u001b[0m 31ms/step - accuracy: 0.9256 - loss: 0.3782 - precision: 0.9735 - recall: 0.8750 - val_accuracy: 0.9405 - val_loss: 0.3504 - val_precision: 0.9111 - val_recall: 0.9762 - learning_rate: 1.0000e-04\n",
      "Epoch 10/30\n",
      "\u001b[1m42/42\u001b[0m \u001b[32m━━━━━━━━━━━━━━━━━━━━\u001b[0m\u001b[37m\u001b[0m \u001b[1m0s\u001b[0m 25ms/step - accuracy: 0.9225 - loss: 0.3726 - precision: 0.9846 - recall: 0.8672\n",
      "Epoch 10: val_accuracy did not improve from 0.94048\n",
      "\u001b[1m42/42\u001b[0m \u001b[32m━━━━━━━━━━━━━━━━━━━━\u001b[0m\u001b[37m\u001b[0m \u001b[1m1s\u001b[0m 31ms/step - accuracy: 0.9315 - loss: 0.3613 - precision: 0.9677 - recall: 0.8929 - val_accuracy: 0.9286 - val_loss: 0.3840 - val_precision: 0.9286 - val_recall: 0.9286 - learning_rate: 1.0000e-04\n",
      "Epoch 11/30\n",
      "\u001b[1m41/42\u001b[0m \u001b[32m━━━━━━━━━━━━━━━━━━━\u001b[0m\u001b[37m━\u001b[0m \u001b[1m0s\u001b[0m 25ms/step - accuracy: 0.9000 - loss: 0.4011 - precision: 0.9213 - recall: 0.8707\n",
      "Epoch 11: val_accuracy did not improve from 0.94048\n",
      "\u001b[1m42/42\u001b[0m \u001b[32m━━━━━━━━━━━━━━━━━━━━\u001b[0m\u001b[37m\u001b[0m \u001b[1m1s\u001b[0m 30ms/step - accuracy: 0.9107 - loss: 0.3895 - precision: 0.9423 - recall: 0.8750 - val_accuracy: 0.9048 - val_loss: 0.3435 - val_precision: 0.9250 - val_recall: 0.8810 - learning_rate: 1.0000e-04\n",
      "Epoch 12/30\n",
      "\u001b[1m41/42\u001b[0m \u001b[32m━━━━━━━━━━━━━━━━━━━\u001b[0m\u001b[37m━\u001b[0m \u001b[1m0s\u001b[0m 23ms/step - accuracy: 0.9271 - loss: 0.3692 - precision: 0.9366 - recall: 0.9175\n",
      "Epoch 12: val_accuracy improved from 0.94048 to 0.95238, saving model to ../models/malnutrition_model.h5\n"
     ]
    },
    {
     "name": "stderr",
     "output_type": "stream",
     "text": [
      "WARNING:absl:You are saving your model as an HDF5 file via `model.save()` or `keras.saving.save_model(model)`. This file format is considered legacy. We recommend using instead the native Keras format, e.g. `model.save('my_model.keras')` or `keras.saving.save_model(model, 'my_model.keras')`. \n"
     ]
    },
    {
     "name": "stdout",
     "output_type": "stream",
     "text": [
      "\u001b[1m42/42\u001b[0m \u001b[32m━━━━━━━━━━━━━━━━━━━━\u001b[0m\u001b[37m\u001b[0m \u001b[1m1s\u001b[0m 31ms/step - accuracy: 0.9226 - loss: 0.3595 - precision: 0.9329 - recall: 0.9107 - val_accuracy: 0.9524 - val_loss: 0.3652 - val_precision: 0.9318 - val_recall: 0.9762 - learning_rate: 1.0000e-04\n",
      "Epoch 13/30\n",
      "\u001b[1m40/42\u001b[0m \u001b[32m━━━━━━━━━━━━━━━━━━━\u001b[0m\u001b[37m━\u001b[0m \u001b[1m0s\u001b[0m 27ms/step - accuracy: 0.9573 - loss: 0.3720 - precision: 0.9731 - recall: 0.9475\n",
      "Epoch 13: val_accuracy did not improve from 0.95238\n",
      "\u001b[1m42/42\u001b[0m \u001b[32m━━━━━━━━━━━━━━━━━━━━\u001b[0m\u001b[37m\u001b[0m \u001b[1m1s\u001b[0m 32ms/step - accuracy: 0.9464 - loss: 0.3801 - precision: 0.9573 - recall: 0.9345 - val_accuracy: 0.9167 - val_loss: 0.3601 - val_precision: 0.9070 - val_recall: 0.9286 - learning_rate: 1.0000e-04\n",
      "Epoch 14/30\n",
      "\u001b[1m40/42\u001b[0m \u001b[32m━━━━━━━━━━━━━━━━━━━\u001b[0m\u001b[37m━\u001b[0m \u001b[1m0s\u001b[0m 25ms/step - accuracy: 0.9359 - loss: 0.3329 - precision: 0.9619 - recall: 0.9032\n",
      "Epoch 14: val_accuracy did not improve from 0.95238\n",
      "\u001b[1m42/42\u001b[0m \u001b[32m━━━━━━━━━━━━━━━━━━━━\u001b[0m\u001b[37m\u001b[0m \u001b[1m1s\u001b[0m 31ms/step - accuracy: 0.9256 - loss: 0.3498 - precision: 0.9497 - recall: 0.8988 - val_accuracy: 0.9048 - val_loss: 0.3485 - val_precision: 0.8864 - val_recall: 0.9286 - learning_rate: 1.0000e-04\n",
      "Epoch 15/30\n",
      "\u001b[1m40/42\u001b[0m \u001b[32m━━━━━━━━━━━━━━━━━━━\u001b[0m\u001b[37m━\u001b[0m \u001b[1m0s\u001b[0m 24ms/step - accuracy: 0.9235 - loss: 0.3685 - precision: 0.9217 - recall: 0.9301\n",
      "Epoch 15: val_accuracy did not improve from 0.95238\n",
      "\u001b[1m42/42\u001b[0m \u001b[32m━━━━━━━━━━━━━━━━━━━━\u001b[0m\u001b[37m\u001b[0m \u001b[1m1s\u001b[0m 30ms/step - accuracy: 0.9524 - loss: 0.3213 - precision: 0.9524 - recall: 0.9524 - val_accuracy: 0.9405 - val_loss: 0.3212 - val_precision: 0.9111 - val_recall: 0.9762 - learning_rate: 1.0000e-04\n",
      "Epoch 16/30\n",
      "\u001b[1m40/42\u001b[0m \u001b[32m━━━━━━━━━━━━━━━━━━━\u001b[0m\u001b[37m━\u001b[0m \u001b[1m0s\u001b[0m 25ms/step - accuracy: 0.9605 - loss: 0.2875 - precision: 0.9557 - recall: 0.9559\n",
      "Epoch 16: val_accuracy did not improve from 0.95238\n",
      "\u001b[1m42/42\u001b[0m \u001b[32m━━━━━━━━━━━━━━━━━━━━\u001b[0m\u001b[37m\u001b[0m \u001b[1m1s\u001b[0m 31ms/step - accuracy: 0.9673 - loss: 0.2898 - precision: 0.9758 - recall: 0.9583 - val_accuracy: 0.9167 - val_loss: 0.3072 - val_precision: 0.9487 - val_recall: 0.8810 - learning_rate: 1.0000e-04\n",
      "Epoch 17/30\n",
      "\u001b[1m40/42\u001b[0m \u001b[32m━━━━━━━━━━━━━━━━━━━\u001b[0m\u001b[37m━\u001b[0m \u001b[1m0s\u001b[0m 25ms/step - accuracy: 0.9686 - loss: 0.2790 - precision: 0.9909 - recall: 0.9487\n",
      "Epoch 17: val_accuracy did not improve from 0.95238\n",
      "\u001b[1m42/42\u001b[0m \u001b[32m━━━━━━━━━━━━━━━━━━━━\u001b[0m\u001b[37m\u001b[0m \u001b[1m1s\u001b[0m 31ms/step - accuracy: 0.9732 - loss: 0.2889 - precision: 0.9818 - recall: 0.9643 - val_accuracy: 0.9048 - val_loss: 0.3319 - val_precision: 0.9250 - val_recall: 0.8810 - learning_rate: 1.0000e-04\n",
      "Epoch 18/30\n",
      "\u001b[1m40/42\u001b[0m \u001b[32m━━━━━━━━━━━━━━━━━━━\u001b[0m\u001b[37m━\u001b[0m \u001b[1m0s\u001b[0m 25ms/step - accuracy: 0.9851 - loss: 0.2668 - precision: 0.9758 - recall: 0.9939\n",
      "Epoch 18: val_accuracy did not improve from 0.95238\n",
      "\u001b[1m42/42\u001b[0m \u001b[32m━━━━━━━━━━━━━━━━━━━━\u001b[0m\u001b[37m\u001b[0m \u001b[1m1s\u001b[0m 31ms/step - accuracy: 0.9792 - loss: 0.2729 - precision: 0.9879 - recall: 0.9702 - val_accuracy: 0.9405 - val_loss: 0.3088 - val_precision: 0.9302 - val_recall: 0.9524 - learning_rate: 1.0000e-04\n",
      "Epoch 19/30\n",
      "\u001b[1m40/42\u001b[0m \u001b[32m━━━━━━━━━━━━━━━━━━━\u001b[0m\u001b[37m━\u001b[0m \u001b[1m0s\u001b[0m 25ms/step - accuracy: 0.9767 - loss: 0.2750 - precision: 0.9917 - recall: 0.9632\n",
      "Epoch 19: val_accuracy did not improve from 0.95238\n",
      "\u001b[1m42/42\u001b[0m \u001b[32m━━━━━━━━━━━━━━━━━━━━\u001b[0m\u001b[37m\u001b[0m \u001b[1m1s\u001b[0m 31ms/step - accuracy: 0.9702 - loss: 0.2808 - precision: 0.9877 - recall: 0.9524 - val_accuracy: 0.9167 - val_loss: 0.3363 - val_precision: 0.9268 - val_recall: 0.9048 - learning_rate: 1.0000e-04\n",
      "Epoch 20/30\n",
      "\u001b[1m40/42\u001b[0m \u001b[32m━━━━━━━━━━━━━━━━━━━\u001b[0m\u001b[37m━\u001b[0m \u001b[1m0s\u001b[0m 26ms/step - accuracy: 0.9777 - loss: 0.2807 - precision: 0.9663 - recall: 0.9892\n",
      "Epoch 20: val_accuracy did not improve from 0.95238\n",
      "\u001b[1m42/42\u001b[0m \u001b[32m━━━━━━━━━━━━━━━━━━━━\u001b[0m\u001b[37m\u001b[0m \u001b[1m1s\u001b[0m 32ms/step - accuracy: 0.9673 - loss: 0.2922 - precision: 0.9645 - recall: 0.9702 - val_accuracy: 0.9048 - val_loss: 0.3208 - val_precision: 0.9048 - val_recall: 0.9048 - learning_rate: 1.0000e-04\n",
      "Epoch 21/30\n",
      "\u001b[1m42/42\u001b[0m \u001b[32m━━━━━━━━━━━━━━━━━━━━\u001b[0m\u001b[37m\u001b[0m \u001b[1m0s\u001b[0m 25ms/step - accuracy: 0.9225 - loss: 0.3505 - precision: 0.9608 - recall: 0.8892\n",
      "Epoch 21: val_accuracy did not improve from 0.95238\n",
      "\u001b[1m42/42\u001b[0m \u001b[32m━━━━━━━━━━━━━━━━━━━━\u001b[0m\u001b[37m\u001b[0m \u001b[1m1s\u001b[0m 30ms/step - accuracy: 0.9167 - loss: 0.3544 - precision: 0.9430 - recall: 0.8869 - val_accuracy: 0.9524 - val_loss: 0.2956 - val_precision: 0.9318 - val_recall: 0.9762 - learning_rate: 1.0000e-04\n",
      "Epoch 22/30\n",
      "\u001b[1m40/42\u001b[0m \u001b[32m━━━━━━━━━━━━━━━━━━━\u001b[0m\u001b[37m━\u001b[0m \u001b[1m0s\u001b[0m 27ms/step - accuracy: 0.9645 - loss: 0.2622 - precision: 0.9681 - recall: 0.9590\n",
      "Epoch 22: val_accuracy improved from 0.95238 to 0.96429, saving model to ../models/malnutrition_model.h5\n"
     ]
    },
    {
     "name": "stderr",
     "output_type": "stream",
     "text": [
      "WARNING:absl:You are saving your model as an HDF5 file via `model.save()` or `keras.saving.save_model(model)`. This file format is considered legacy. We recommend using instead the native Keras format, e.g. `model.save('my_model.keras')` or `keras.saving.save_model(model, 'my_model.keras')`. \n"
     ]
    },
    {
     "name": "stdout",
     "output_type": "stream",
     "text": [
      "\u001b[1m42/42\u001b[0m \u001b[32m━━━━━━━━━━━━━━━━━━━━\u001b[0m\u001b[37m\u001b[0m \u001b[1m1s\u001b[0m 34ms/step - accuracy: 0.9673 - loss: 0.2602 - precision: 0.9816 - recall: 0.9524 - val_accuracy: 0.9643 - val_loss: 0.2791 - val_precision: 0.9535 - val_recall: 0.9762 - learning_rate: 1.0000e-04\n",
      "Epoch 23/30\n",
      "\u001b[1m40/42\u001b[0m \u001b[32m━━━━━━━━━━━━━━━━━━━\u001b[0m\u001b[37m━\u001b[0m \u001b[1m0s\u001b[0m 24ms/step - accuracy: 0.9465 - loss: 0.2919 - precision: 0.9402 - recall: 0.9445\n",
      "Epoch 23: val_accuracy did not improve from 0.96429\n",
      "\u001b[1m42/42\u001b[0m \u001b[32m━━━━━━━━━━━━━━━━━━━━\u001b[0m\u001b[37m\u001b[0m \u001b[1m1s\u001b[0m 30ms/step - accuracy: 0.9524 - loss: 0.2871 - precision: 0.9524 - recall: 0.9524 - val_accuracy: 0.9286 - val_loss: 0.2986 - val_precision: 0.9500 - val_recall: 0.9048 - learning_rate: 1.0000e-04\n",
      "Epoch 24/30\n",
      "\u001b[1m40/42\u001b[0m \u001b[32m━━━━━━━━━━━━━━━━━━━\u001b[0m\u001b[37m━\u001b[0m \u001b[1m0s\u001b[0m 26ms/step - accuracy: 0.9399 - loss: 0.3012 - precision: 0.9801 - recall: 0.9067\n",
      "Epoch 24: val_accuracy did not improve from 0.96429\n",
      "\u001b[1m42/42\u001b[0m \u001b[32m━━━━━━━━━━━━━━━━━━━━\u001b[0m\u001b[37m\u001b[0m \u001b[1m1s\u001b[0m 32ms/step - accuracy: 0.9554 - loss: 0.2788 - precision: 0.9811 - recall: 0.9286 - val_accuracy: 0.9286 - val_loss: 0.3141 - val_precision: 0.9091 - val_recall: 0.9524 - learning_rate: 1.0000e-04\n",
      "Epoch 25/30\n",
      "\u001b[1m40/42\u001b[0m \u001b[32m━━━━━━━━━━━━━━━━━━━\u001b[0m\u001b[37m━\u001b[0m \u001b[1m0s\u001b[0m 24ms/step - accuracy: 0.9945 - loss: 0.2265 - precision: 1.0000 - recall: 0.9890\n",
      "Epoch 25: val_accuracy did not improve from 0.96429\n",
      "\u001b[1m42/42\u001b[0m \u001b[32m━━━━━━━━━━━━━━━━━━━━\u001b[0m\u001b[37m\u001b[0m \u001b[1m1s\u001b[0m 30ms/step - accuracy: 0.9881 - loss: 0.2303 - precision: 1.0000 - recall: 0.9762 - val_accuracy: 0.9524 - val_loss: 0.2860 - val_precision: 0.9318 - val_recall: 0.9762 - learning_rate: 1.0000e-04\n",
      "Epoch 26/30\n",
      "\u001b[1m42/42\u001b[0m \u001b[32m━━━━━━━━━━━━━━━━━━━━\u001b[0m\u001b[37m\u001b[0m \u001b[1m0s\u001b[0m 25ms/step - accuracy: 0.9224 - loss: 0.3620 - precision: 0.9493 - recall: 0.9082\n",
      "Epoch 26: val_accuracy did not improve from 0.96429\n",
      "\u001b[1m42/42\u001b[0m \u001b[32m━━━━━━━━━━━━━━━━━━━━\u001b[0m\u001b[37m\u001b[0m \u001b[1m1s\u001b[0m 30ms/step - accuracy: 0.9375 - loss: 0.3329 - precision: 0.9455 - recall: 0.9286 - val_accuracy: 0.9286 - val_loss: 0.2850 - val_precision: 0.9286 - val_recall: 0.9286 - learning_rate: 1.0000e-04\n",
      "Epoch 27/30\n",
      "\u001b[1m40/42\u001b[0m \u001b[32m━━━━━━━━━━━━━━━━━━━\u001b[0m\u001b[37m━\u001b[0m \u001b[1m0s\u001b[0m 25ms/step - accuracy: 0.9717 - loss: 0.2647 - precision: 0.9507 - recall: 0.9893\n",
      "Epoch 27: val_accuracy did not improve from 0.96429\n",
      "\u001b[1m42/42\u001b[0m \u001b[32m━━━━━━━━━━━━━━━━━━━━\u001b[0m\u001b[37m\u001b[0m \u001b[1m1s\u001b[0m 31ms/step - accuracy: 0.9494 - loss: 0.3212 - precision: 0.9576 - recall: 0.9405 - val_accuracy: 0.9524 - val_loss: 0.2824 - val_precision: 0.9318 - val_recall: 0.9762 - learning_rate: 1.0000e-04\n",
      "Epoch 28/30\n",
      "\u001b[1m40/42\u001b[0m \u001b[32m━━━━━━━━━━━━━━━━━━━\u001b[0m\u001b[37m━\u001b[0m \u001b[1m0s\u001b[0m 24ms/step - accuracy: 0.9389 - loss: 0.3418 - precision: 0.9549 - recall: 0.9186\n",
      "Epoch 28: ReduceLROnPlateau reducing learning rate to 1.9999999494757503e-05.\n",
      "\n",
      "Epoch 28: val_accuracy did not improve from 0.96429\n",
      "\u001b[1m42/42\u001b[0m \u001b[32m━━━━━━━━━━━━━━━━━━━━\u001b[0m\u001b[37m\u001b[0m \u001b[1m1s\u001b[0m 30ms/step - accuracy: 0.9464 - loss: 0.2985 - precision: 0.9688 - recall: 0.9226 - val_accuracy: 0.9286 - val_loss: 0.2997 - val_precision: 0.9286 - val_recall: 0.9286 - learning_rate: 1.0000e-04\n",
      "Epoch 29/30\n",
      "\u001b[1m42/42\u001b[0m \u001b[32m━━━━━━━━━━━━━━━━━━━━\u001b[0m\u001b[37m\u001b[0m \u001b[1m0s\u001b[0m 25ms/step - accuracy: 0.9462 - loss: 0.2980 - precision: 0.9725 - recall: 0.9200\n",
      "Epoch 29: val_accuracy did not improve from 0.96429\n",
      "\u001b[1m42/42\u001b[0m \u001b[32m━━━━━━━━━━━━━━━━━━━━\u001b[0m\u001b[37m\u001b[0m \u001b[1m1s\u001b[0m 31ms/step - accuracy: 0.9583 - loss: 0.2707 - precision: 0.9753 - recall: 0.9405 - val_accuracy: 0.8571 - val_loss: 0.3789 - val_precision: 0.8409 - val_recall: 0.8810 - learning_rate: 2.0000e-05\n",
      "Epoch 30/30\n",
      "\u001b[1m41/42\u001b[0m \u001b[32m━━━━━━━━━━━━━━━━━━━\u001b[0m\u001b[37m━\u001b[0m \u001b[1m0s\u001b[0m 24ms/step - accuracy: 0.9629 - loss: 0.3031 - precision: 0.9468 - recall: 0.9804\n",
      "Epoch 30: val_accuracy did not improve from 0.96429\n",
      "\u001b[1m42/42\u001b[0m \u001b[32m━━━━━━━━━━━━━━━━━━━━\u001b[0m\u001b[37m\u001b[0m \u001b[1m1s\u001b[0m 30ms/step - accuracy: 0.9524 - loss: 0.3269 - precision: 0.9368 - recall: 0.9702 - val_accuracy: 0.9286 - val_loss: 0.3058 - val_precision: 0.9286 - val_recall: 0.9286 - learning_rate: 2.0000e-05\n",
      "Restoring model weights from the end of the best epoch: 22.\n",
      "✅ Enhanced training completed!\n"
     ]
    }
   ],
   "source": [
    "# Training Configuration & Callbacks - Enhanced Strategy\n",
    "EPOCHS = 30  # More epochs for fine-tuning\n",
    "\n",
    "# Enhanced callbacks for better training\n",
    "callbacks = [\n",
    "    EarlyStopping(\n",
    "        monitor='val_accuracy',  # Monitor accuracy instead of loss\n",
    "        patience=12,\n",
    "        restore_best_weights=True,\n",
    "        verbose=1,\n",
    "        mode='max'\n",
    "    ),\n",
    "    ReduceLROnPlateau(\n",
    "        monitor='val_loss',\n",
    "        factor=0.2,  # More aggressive reduction\n",
    "        patience=6,\n",
    "        min_lr=1e-8,\n",
    "        verbose=1,\n",
    "        cooldown=2\n",
    "    ),\n",
    "    ModelCheckpoint(\n",
    "        '../models/malnutrition_model.h5',\n",
    "        monitor='val_accuracy',  # Save best accuracy model\n",
    "        save_best_only=True,\n",
    "        verbose=1,\n",
    "        mode='max'\n",
    "    )\n",
    "]\n",
    "\n",
    "print(\"🚀 Starting enhanced MobileNet training with fine-tuning...\")\n",
    "print(f\"Training for up to {EPOCHS} epochs with early stopping\")\n",
    "print(\"📊 Enhanced architecture with fine-tuning for 95%+ accuracy!\")\n",
    "print(\"🔧 Strategy: Fine-tune last 20 layers + enhanced head architecture\")\n",
    "\n",
    "# Train the model\n",
    "history = model.fit(\n",
    "    train_generator,\n",
    "    epochs=EPOCHS,\n",
    "    validation_data=validation_generator,\n",
    "    callbacks=callbacks,\n",
    "    verbose=1\n",
    ")\n",
    "\n",
    "print(\"✅ Enhanced training completed!\")\n"
   ]
  },
  {
   "cell_type": "markdown",
   "metadata": {
    "vscode": {
     "languageId": "raw"
    }
   },
   "source": [
    "### **Performance Interpretation**\n",
    "\n",
    "**Key Metrics Explained:**\n",
    "- **Accuracy**: Overall correct predictions (target: >90%)\n",
    "- **Precision**: Of predicted positives, how many are actually positive\n",
    "- **Recall**: Of actual positives, how many are correctly identified\n",
    "- **AUC-ROC**: Area under curve (>0.9 indicates excellent discrimination)"
   ]
  },
  {
   "cell_type": "markdown",
   "metadata": {
    "vscode": {
     "languageId": "raw"
    }
   },
   "source": [
    "## 📊 Model Evaluation & Performance Analysis\n",
    "\n",
    "**This section demonstrates \"how good the model is\" using comprehensive metrics required for ML evaluation.**\n"
   ]
  },
  {
   "cell_type": "code",
   "execution_count": 28,
   "metadata": {},
   "outputs": [
    {
     "name": "stdout",
     "output_type": "stream",
     "text": [
      "🔍 Evaluating model performance...\n",
      "WARNING:tensorflow:5 out of the last 7 calls to <function TensorFlowTrainer.make_predict_function.<locals>.one_step_on_data_distributed at 0x307a60d60> triggered tf.function retracing. Tracing is expensive and the excessive number of tracings could be due to (1) creating @tf.function repeatedly in a loop, (2) passing tensors with different shapes, (3) passing Python objects instead of tensors. For (1), please define your @tf.function outside of the loop. For (2), @tf.function has reduce_retracing=True option that can avoid unnecessary retracing. For (3), please refer to https://www.tensorflow.org/guide/function#controlling_retracing and https://www.tensorflow.org/api_docs/python/tf/function for  more details.\n"
     ]
    },
    {
     "name": "stderr",
     "output_type": "stream",
     "text": [
      "WARNING:tensorflow:5 out of the last 7 calls to <function TensorFlowTrainer.make_predict_function.<locals>.one_step_on_data_distributed at 0x307a60d60> triggered tf.function retracing. Tracing is expensive and the excessive number of tracings could be due to (1) creating @tf.function repeatedly in a loop, (2) passing tensors with different shapes, (3) passing Python objects instead of tensors. For (1), please define your @tf.function outside of the loop. For (2), @tf.function has reduce_retracing=True option that can avoid unnecessary retracing. For (3), please refer to https://www.tensorflow.org/guide/function#controlling_retracing and https://www.tensorflow.org/api_docs/python/tf/function for  more details.\n"
     ]
    },
    {
     "name": "stdout",
     "output_type": "stream",
     "text": [
      "\u001b[1m1/3\u001b[0m \u001b[32m━━━━━━\u001b[0m\u001b[37m━━━━━━━━━━━━━━\u001b[0m \u001b[1m0s\u001b[0m 497ms/stepWARNING:tensorflow:6 out of the last 9 calls to <function TensorFlowTrainer.make_predict_function.<locals>.one_step_on_data_distributed at 0x307a60d60> triggered tf.function retracing. Tracing is expensive and the excessive number of tracings could be due to (1) creating @tf.function repeatedly in a loop, (2) passing tensors with different shapes, (3) passing Python objects instead of tensors. For (1), please define your @tf.function outside of the loop. For (2), @tf.function has reduce_retracing=True option that can avoid unnecessary retracing. For (3), please refer to https://www.tensorflow.org/guide/function#controlling_retracing and https://www.tensorflow.org/api_docs/python/tf/function for  more details.\n"
     ]
    },
    {
     "name": "stderr",
     "output_type": "stream",
     "text": [
      "WARNING:tensorflow:6 out of the last 9 calls to <function TensorFlowTrainer.make_predict_function.<locals>.one_step_on_data_distributed at 0x307a60d60> triggered tf.function retracing. Tracing is expensive and the excessive number of tracings could be due to (1) creating @tf.function repeatedly in a loop, (2) passing tensors with different shapes, (3) passing Python objects instead of tensors. For (1), please define your @tf.function outside of the loop. For (2), @tf.function has reduce_retracing=True option that can avoid unnecessary retracing. For (3), please refer to https://www.tensorflow.org/guide/function#controlling_retracing and https://www.tensorflow.org/api_docs/python/tf/function for  more details.\n"
     ]
    },
    {
     "name": "stdout",
     "output_type": "stream",
     "text": [
      "\u001b[1m3/3\u001b[0m \u001b[32m━━━━━━━━━━━━━━━━━━━━\u001b[0m\u001b[37m\u001b[0m \u001b[1m1s\u001b[0m 237ms/step\n",
      "🎯 MODEL PERFORMANCE METRICS:\n",
      "========================================\n",
      "Accuracy:  0.9500 (95.00%)\n",
      "Precision: 0.9091\n",
      "Recall:    1.0000\n",
      "F1-Score:  0.9524\n",
      "AUC-ROC:   1.0000\n",
      "========================================\n",
      "Overall Performance: 🌟 EXCELLENT\n",
      "\n",
      "📋 DETAILED CLASSIFICATION REPORT:\n",
      "               precision    recall  f1-score   support\n",
      "\n",
      " Malnourished       1.00      0.90      0.95        10\n",
      "Overnourished       0.91      1.00      0.95        10\n",
      "\n",
      "     accuracy                           0.95        20\n",
      "    macro avg       0.95      0.95      0.95        20\n",
      " weighted avg       0.95      0.95      0.95        20\n",
      "\n"
     ]
    }
   ],
   "source": [
    "# Comprehensive Model Evaluation\n",
    "print(\"🔍 Evaluating model performance...\")\n",
    "\n",
    "# Get predictions on test set\n",
    "test_generator.reset()\n",
    "predictions = model.predict(test_generator, verbose=1)\n",
    "predicted_classes = (predictions > 0.5).astype(int).flatten()\n",
    "\n",
    "# Get true labels\n",
    "true_labels = test_generator.classes\n",
    "\n",
    "# Calculate comprehensive metrics\n",
    "from sklearn.metrics import accuracy_score, precision_score, recall_score, f1_score\n",
    "\n",
    "accuracy = accuracy_score(true_labels, predicted_classes)\n",
    "precision = precision_score(true_labels, predicted_classes)\n",
    "recall = recall_score(true_labels, predicted_classes)\n",
    "f1 = f1_score(true_labels, predicted_classes)\n",
    "auc_score = roc_auc_score(true_labels, predictions)\n",
    "\n",
    "print(\"🎯 MODEL PERFORMANCE METRICS:\")\n",
    "print(\"=\" * 40)\n",
    "print(f\"Accuracy:  {accuracy:.4f} ({accuracy*100:.2f}%)\")\n",
    "print(f\"Precision: {precision:.4f}\")\n",
    "print(f\"Recall:    {recall:.4f}\")\n",
    "print(f\"F1-Score:  {f1:.4f}\")\n",
    "print(f\"AUC-ROC:   {auc_score:.4f}\")\n",
    "print(\"=\" * 40)\n",
    "\n",
    "# Performance interpretation\n",
    "if accuracy > 0.9:\n",
    "    performance = \"🌟 EXCELLENT\"\n",
    "elif accuracy > 0.8:\n",
    "    performance = \"🎯 VERY GOOD\"\n",
    "elif accuracy > 0.7:\n",
    "    performance = \"👍 GOOD\"\n",
    "else:\n",
    "    performance = \"⚠️ NEEDS IMPROVEMENT\"\n",
    "\n",
    "print(f\"Overall Performance: {performance}\")\n",
    "\n",
    "# Detailed classification report\n",
    "print(\"\\n📋 DETAILED CLASSIFICATION REPORT:\")\n",
    "class_names = ['Malnourished', 'Overnourished']\n",
    "print(classification_report(true_labels, predicted_classes, target_names=class_names))\n"
   ]
  },
  {
   "cell_type": "markdown",
   "metadata": {
    "vscode": {
     "languageId": "raw"
    }
   },
   "source": [
    "### **Visualization Analysis**\n",
    "\n",
    "**Loss Curves:** Should show convergence without overfitting (training and validation losses close)\n",
    "**Confusion Matrix:** Diagonal values indicate correct predictions; off-diagonal show misclassifications\n"
   ]
  },
  {
   "cell_type": "code",
   "execution_count": 29,
   "metadata": {},
   "outputs": [
    {
     "data": {
      "image/png": "[encoded data removed]",
      "text/plain": [
       "<Figure size 1200x500 with 3 Axes>"
      ]
     },
     "metadata": {},
     "output_type": "display_data"
    }
   ],
   "source": [
    "# Essential Visualization - Model Loss & Confusion Matrix\n",
    "fig, axes = plt.subplots(1, 2, figsize=(12, 5))\n",
    "fig.suptitle('Model Performance Analysis', fontsize=16, fontweight='bold')\n",
    "\n",
    "# Model Loss\n",
    "axes[0].plot(history.history['loss'], label='Training Loss', color='blue', linewidth=2)\n",
    "axes[0].plot(history.history['val_loss'], label='Validation Loss', color='red', linewidth=2)\n",
    "axes[0].set_title('Model Loss')\n",
    "axes[0].set_xlabel('Epoch')\n",
    "axes[0].set_ylabel('Loss')\n",
    "axes[0].legend()\n",
    "axes[0].grid(True, alpha=0.3)\n",
    "\n",
    "# Confusion Matrix\n",
    "cm = confusion_matrix(true_labels, predicted_classes)\n",
    "sns.heatmap(cm, annot=True, fmt='d', cmap='Blues', \n",
    "            xticklabels=class_names, yticklabels=class_names, ax=axes[1])\n",
    "axes[1].set_title('Confusion Matrix')\n",
    "axes[1].set_xlabel('Predicted')\n",
    "axes[1].set_ylabel('Actual')\n",
    "\n",
    "plt.tight_layout()\n",
    "plt.show()\n"
   ]
  },
  {
   "cell_type": "markdown",
   "metadata": {
    "vscode": {
     "languageId": "raw"
    }
   },
   "source": [
    "## 💾 Model Deployment & Conclusion\n",
    "\n",
    "Save the trained model for production use and summarize results.\n"
   ]
  },
  {
   "cell_type": "code",
   "execution_count": 30,
   "metadata": {},
   "outputs": [
    {
     "name": "stdout",
     "output_type": "stream",
     "text": [
      "💾 Training history saved to: ../models/malnutrition_model_history.json\n"
     ]
    },
    {
     "data": {
      "image/png": "[encoded data removed]",
      "text/plain": [
       "<Figure size 1200x500 with 2 Axes>"
      ]
     },
     "metadata": {},
     "output_type": "display_data"
    },
    {
     "name": "stdout",
     "output_type": "stream",
     "text": [
      "💾 Training plots saved to: ../models/malnutrition_model_training_plots.png\n",
      "\n",
      "✅ Essential visualization files generated for API consumption!\n"
     ]
    }
   ],
   "source": [
    "# 💾 Generate Visualization Files for API\n",
    "import json\n",
    "\n",
    "# Save training history for API consumption\n",
    "training_history_data = []\n",
    "for i in range(len(history.history['accuracy'])):\n",
    "    training_history_data.append({\n",
    "        \"epoch\": i + 1,\n",
    "        \"accuracy\": history.history['accuracy'][i],\n",
    "        \"loss\": history.history['loss'][i],\n",
    "        \"val_accuracy\": history.history['val_accuracy'][i],\n",
    "        \"val_loss\": history.history['val_loss'][i],\n",
    "        \"val_precision\": history.history.get('val_precision', [history.history['val_accuracy'][i]])[i],\n",
    "        \"val_recall\": history.history.get('val_recall', [history.history['val_accuracy'][i]])[i]\n",
    "    })\n",
    "\n",
    "# Save training history JSON\n",
    "history_path = \"../models/malnutrition_model_history.json\"\n",
    "with open(history_path, 'w') as f:\n",
    "    json.dump(training_history_data, f, indent=2)\n",
    "print(f\"💾 Training history saved to: {history_path}\")\n",
    "\n",
    "# Generate and save training plots\n",
    "fig, axes = plt.subplots(1, 2, figsize=(12, 5))\n",
    "\n",
    "# Training history plots\n",
    "axes[0].plot(history.history['accuracy'], label='Training Accuracy', color='blue')\n",
    "axes[0].plot(history.history['val_accuracy'], label='Validation Accuracy', color='red')\n",
    "axes[0].set_title('Model Accuracy')\n",
    "axes[0].set_xlabel('Epoch')\n",
    "axes[0].set_ylabel('Accuracy')\n",
    "axes[0].legend()\n",
    "axes[0].grid(True, alpha=0.3)\n",
    "\n",
    "axes[1].plot(history.history['loss'], label='Training Loss', color='blue')\n",
    "axes[1].plot(history.history['val_loss'], label='Validation Loss', color='red')\n",
    "axes[1].set_title('Model Loss')\n",
    "axes[1].set_xlabel('Epoch')\n",
    "axes[1].set_ylabel('Loss')\n",
    "axes[1].legend()\n",
    "axes[1].grid(True, alpha=0.3)\n",
    "\n",
    "plt.tight_layout()\n",
    "\n",
    "training_plots_path = \"../models/malnutrition_model_training_plots.png\"\n",
    "plt.savefig(training_plots_path, dpi=300, bbox_inches='tight')\n",
    "plt.show()\n",
    "print(f\"💾 Training plots saved to: {training_plots_path}\")\n",
    "\n",
    "print(\"\\n✅ Essential visualization files generated for API consumption!\")\n"
   ]
  },
  {
   "cell_type": "raw",
   "metadata": {
    "vscode": {
     "languageId": "raw"
    }
   },
   "source": [
    "### **Deployment Readiness**\n",
    "\n",
    "**Model Specifications:**\n",
    "- **Input**: 128×128×3 RGB images\n",
    "- **Output**: Binary probability (0=Malnourished, 1=Overnourished)\n",
    "- **Integration**: Compatible with FastAPI backend for real-time predictions\n"
   ]
  },
  {
   "cell_type": "code",
   "execution_count": 31,
   "metadata": {},
   "outputs": [
    {
     "name": "stderr",
     "output_type": "stream",
     "text": [
      "WARNING:absl:You are saving your model as an HDF5 file via `model.save()` or `keras.saving.save_model(model)`. This file format is considered legacy. We recommend using instead the native Keras format, e.g. `model.save('my_model.keras')` or `keras.saving.save_model(model, 'my_model.keras')`. \n"
     ]
    },
    {
     "name": "stdout",
     "output_type": "stream",
     "text": [
      "✅ Model saved to: ../models/malnutrition_model.h5\n",
      "\n",
      "🚀 MODEL READY FOR DEPLOYMENT!\n",
      "==================================================\n",
      "📁 Model File: ../models/malnutrition_model.h5\n",
      "🎯 Accuracy: 95.00%\n",
      "📊 AUC Score: 1.0000\n",
      "🏗️ Architecture: MobileNetV2 (alpha=0.75) + Custom Head\n",
      "📸 Input Size: 128x128x3\n",
      "🔢 Classes: Malnourished (0) | Overnourished (1)\n",
      "==================================================\n",
      "\n",
      "📝 CONCLUSION:\n",
      "This malnutrition detection model demonstrates:\n",
      "✅ High accuracy (95.0%) on real medical data\n",
      "✅ Balanced performance across both classes\n",
      "✅ Robust transfer learning architecture\n",
      "✅ Ready for production deployment\n",
      "✅ Suitable for real-time malnutrition screening\n",
      "\n",
      "🎉 ML Pipeline Complete! Model is ready for integration with FastAPI backend.\n"
     ]
    }
   ],
   "source": [
    "# Save the trained model\n",
    "import os\n",
    "os.makedirs('../models', exist_ok=True)\n",
    "\n",
    "model_path = '../models/malnutrition_model.h5'\n",
    "model.save(model_path)\n",
    "\n",
    "print(f\"✅ Model saved to: {model_path}\")\n",
    "\n",
    "# Model summary for deployment\n",
    "print(\"\\n🚀 MODEL READY FOR DEPLOYMENT!\")\n",
    "print(\"=\" * 50)\n",
    "print(f\"📁 Model File: {model_path}\")\n",
    "print(f\"🎯 Accuracy: {accuracy*100:.2f}%\")\n",
    "print(f\"📊 AUC Score: {auc_score:.4f}\")\n",
    "print(f\"🏗️ Architecture: MobileNetV2 (alpha=0.75) + Custom Head\")\n",
    "print(f\"📸 Input Size: {IMG_SIZE}x{IMG_SIZE}x3\")\n",
    "print(f\"🔢 Classes: Malnourished (0) | Overnourished (1)\")\n",
    "print(\"=\" * 50)\n",
    "\n",
    "# Final conclusions\n",
    "print(\"\\n📝 CONCLUSION:\")\n",
    "print(\"This malnutrition detection model demonstrates:\")\n",
    "print(f\"✅ High accuracy ({accuracy*100:.1f}%) on real medical data\")\n",
    "print(f\"✅ Balanced performance across both classes\")\n",
    "print(f\"✅ Robust transfer learning architecture\")\n",
    "print(f\"✅ Ready for production deployment\")\n",
    "print(f\"✅ Suitable for real-time malnutrition screening\")\n",
    "\n",
    "print(f\"\\n🎉 ML Pipeline Complete! Model is ready for integration with FastAPI backend.\")\n"
   ]
  },
  {
   "cell_type": "markdown",
   "metadata": {
    "vscode": {
     "languageId": "raw"
    }
   },
   "source": [
    "### **3-Class Innovation**\n",
    "\n",
    "**The Challenge:** No \"normal\" children in training data\n",
    "**The Solution:** Confidence thresholds convert binary output to 3-class system\n",
    "\n",
    "**Logic:**\n",
    "- High confidence (≥70%) → Classify as predicted class\n",
    "- Low confidence (<70%) → Classify as \"Normal/Healthy\"\n",
    "\n",
    "**Benefit:** Detect normal children without additional training data, improving clinical safety.\n"
   ]
  },
  {
   "cell_type": "markdown",
   "metadata": {
    "vscode": {
     "languageId": "raw"
    }
   },
   "source": [
    "## 🎯 3-Class Classification Using Confidence Thresholds\n",
    "\n",
    "**Key Innovation**: We can detect \"Normal\" children without additional training data by using confidence thresholds!\n"
   ]
  },
  {
   "cell_type": "code",
   "execution_count": 32,
   "metadata": {},
   "outputs": [
    {
     "name": "stderr",
     "output_type": "stream",
     "text": [
      "WARNING:absl:Compiled the loaded model, but the compiled metrics have yet to be built. `model.compile_metrics` will be empty until you train or evaluate the model.\n"
     ]
    },
    {
     "name": "stdout",
     "output_type": "stream",
     "text": [
      "🎯 3-CLASS MALNUTRITION DETECTION SYSTEM\n",
      "==================================================\n",
      "🔍 Classification Logic:\n",
      "   • P(malnourished) ≥ 0.70  → 'Malnourished'\n",
      "   • P(overnourished) ≥ 0.70 → 'Overnourished'\n",
      "   • Both < 0.70             → 'Normal/Healthy'\n",
      "==================================================\n",
      "\n",
      "📊 EXAMPLE CLASSIFICATION SCENARIOS:\n",
      "P(Mal)   P(Over)  Classification  Reason\n",
      "------------------------------------------------------------\n",
      "0.85     0.15     Malnourished    High confidence (0.85)\n",
      "0.20     0.70     Overnourished   High confidence (0.70)\n",
      "0.55     0.45     Normal          Uncertainty zone (max: 0.55)\n",
      "0.40     0.60     Normal          Uncertainty zone (max: 0.60)\n",
      "0.70     0.30     Malnourished    High confidence (0.70)\n",
      "\n",
      "✅ This approach allows us to detect 'Normal' children without additional training data!\n",
      "🔒 Safety: Requires 70%+ confidence before flagging malnutrition\n",
      "⚖️ Balance: Below 70% range considered normal/healthy\n"
     ]
    }
   ],
   "source": [
    "# Demonstrate 3-Class Classification with Confidence Threshold = 0.80\n",
    "\n",
    "# Load our trained model and apply confidence-based classification\n",
    "import sys\n",
    "sys.path.append('../src')\n",
    "\n",
    "from prediction import create_predictor\n",
    "\n",
    "# Create predictor with 0.70 threshold\n",
    "predictor = create_predictor(\"../models/malnutrition_model.h5\", confidence_threshold=0.70)\n",
    "\n",
    "print(\"🎯 3-CLASS MALNUTRITION DETECTION SYSTEM\")\n",
    "print(\"=\" * 50)\n",
    "print(\"🔍 Classification Logic:\")\n",
    "print(\"   • P(malnourished) ≥ 0.70  → 'Malnourished'\")\n",
    "print(\"   • P(overnourished) ≥ 0.70 → 'Overnourished'\")\n",
    "print(\"   • Both < 0.70             → 'Normal/Healthy'\")\n",
    "print(\"=\" * 50)\n",
    "\n",
    "# Example predictions with different scenarios\n",
    "example_scenarios = [\n",
    "    {\"prob_mal\": 0.85, \"prob_over\": 0.15, \"expected\": \"Malnourished\"},\n",
    "    {\"prob_mal\": 0.20, \"prob_over\": 0.70, \"expected\": \"Overnourished\"},\n",
    "    {\"prob_mal\": 0.55, \"prob_over\": 0.45, \"expected\": \"Normal\"},\n",
    "    {\"prob_mal\": 0.40, \"prob_over\": 0.60, \"expected\": \"Normal\"},\n",
    "    {\"prob_mal\": 0.70, \"prob_over\": 0.30, \"expected\": \"Normal\"},\n",
    "]\n",
    "\n",
    "print(\"\\n📊 EXAMPLE CLASSIFICATION SCENARIOS:\")\n",
    "print(f\"{'P(Mal)':<8} {'P(Over)':<8} {'Classification':<15} {'Reason'}\")\n",
    "print(\"-\" * 60)\n",
    "\n",
    "for scenario in example_scenarios:\n",
    "    prob_mal = scenario[\"prob_mal\"]\n",
    "    prob_over = scenario[\"prob_over\"]\n",
    "    \n",
    "    if prob_mal >= 0.70:\n",
    "        classification = \"Malnourished\"\n",
    "        reason = f\"High confidence ({prob_mal:.2f})\"\n",
    "    elif prob_over >= 0.70:\n",
    "        classification = \"Overnourished\" \n",
    "        reason = f\"High confidence ({prob_over:.2f})\"\n",
    "    else:\n",
    "        classification = \"Normal\"\n",
    "        reason = f\"Uncertainty zone (max: {max(prob_mal, prob_over):.2f})\"\n",
    "    \n",
    "    print(f\"{prob_mal:<8.2f} {prob_over:<8.2f} {classification:<15} {reason}\")\n",
    "\n",
    "print(f\"\\n✅ This approach allows us to detect 'Normal' children without additional training data!\")\n",
    "print(f\"🔒 Safety: Requires 70%+ confidence before flagging malnutrition\")\n",
    "print(f\"⚖️ Balance: Below 70% range considered normal/healthy\")\n"
   ]
  },
  {
   "cell_type": "code",
   "execution_count": 33,
   "metadata": {},
   "outputs": [
    {
     "name": "stdout",
     "output_type": "stream",
     "text": [
      "🗃️ Saving training session to database...\n",
      "📊 Session ID: notebook_training_20250803_110407\n",
      "✅ Training session saved to database!\n",
      "📊 Epochs: 30\n",
      "🎯 Final Accuracy: 0.9286\n",
      "📉 Final Loss: 0.3058\n",
      "\n",
      "📈 Database now contains:\n",
      "   • Training Sessions: 1\n",
      "   • Training Metrics: 30\n",
      "   • Uploaded Files: 0\n",
      "\n",
      "🎉 Database populated! Your app will now show training history.\n"
     ]
    }
   ],
   "source": [
    "## 🗃️ Save Training Session to Database\n",
    "\n",
    "# Import database module and save the training session for API consumption\n",
    "import sys\n",
    "sys.path.append('../src')\n",
    "\n",
    "from database import MalnutritionDB\n",
    "from datetime import datetime\n",
    "\n",
    "# Initialize database\n",
    "db = MalnutritionDB()\n",
    "\n",
    "# Create training session ID\n",
    "session_id = f\"notebook_training_{datetime.now().strftime('%Y%m%d_%H%M%S')}\"\n",
    "\n",
    "print(\"🗃️ Saving training session to database...\")\n",
    "print(f\"📊 Session ID: {session_id}\")\n",
    "\n",
    "# Start training session\n",
    "db.start_training_session(session_id, len(history.history['accuracy']))\n",
    "\n",
    "# Save all training metrics\n",
    "for epoch, (acc, loss, val_acc, val_loss) in enumerate(zip(\n",
    "    history.history['accuracy'],\n",
    "    history.history['loss'], \n",
    "    history.history['val_accuracy'],\n",
    "    history.history['val_loss']\n",
    "), 1):\n",
    "    db.save_training_metrics(session_id, epoch, acc, loss, val_acc, val_loss)\n",
    "\n",
    "# Complete the training session\n",
    "final_accuracy = history.history['val_accuracy'][-1]\n",
    "final_loss = history.history['val_loss'][-1]\n",
    "db.complete_training_session(session_id, final_accuracy, final_loss, \"../models/malnutrition_model.h5\")\n",
    "\n",
    "# Save model performance record\n",
    "db.save_model_performance(\n",
    "    model_version=\"v1.0_notebook_trained\",\n",
    "    accuracy=accuracy,\n",
    "    precision=precision,\n",
    "    recall=recall,\n",
    "    f1=f1,\n",
    "    test_samples=len(true_labels)\n",
    ")\n",
    "\n",
    "print(\"✅ Training session saved to database!\")\n",
    "print(f\"📊 Epochs: {len(history.history['accuracy'])}\")\n",
    "print(f\"🎯 Final Accuracy: {final_accuracy:.4f}\")\n",
    "print(f\"📉 Final Loss: {final_loss:.4f}\")\n",
    "\n",
    "# Show database stats\n",
    "stats = db.get_database_stats()\n",
    "print(f\"\\n📈 Database now contains:\")\n",
    "print(f\"   • Training Sessions: {stats['training_sessions']}\")\n",
    "print(f\"   • Training Metrics: {stats['training_metrics_records']}\")\n",
    "print(f\"   • Uploaded Files: {stats['total_uploaded_files']}\")\n",
    "\n",
    "print(f\"\\n🎉 Database populated! Your app will now show training history.\")\n"
   ]
  }
 ],
 "metadata": {
  "kernelspec": {
   "display_name": "venv",
   "language": "python",
   "name": "python3"
  },
  "language_info": {
   "codemirror_mode": {
    "name": "ipython",
    "version": 3
   },
   "file_extension": ".py",
   "mimetype": "text/x-python",
   "name": "python",
   "nbconvert_exporter": "python",
   "pygments_lexer": "ipython3",
   "version": "3.13.5"
  }
 },
 "nbformat": 4,
 "nbformat_minor": 2
}
